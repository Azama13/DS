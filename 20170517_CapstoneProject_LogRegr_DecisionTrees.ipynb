{
 "cells": [
  {
   "cell_type": "markdown",
   "metadata": {},
   "source": [
    "# Logistic Regressions And Decision Trees - 17 May 2017\n",
    "----------------------------\n",
    "## Summary\n",
    "1. Expanded feature sets  , now using  4 different feature sets: <a href='#datasets'>[Link to data summary]</a>\n",
    "  1. Summary statistics for acceleration magnitude: 8 features\n",
    "  2. Summary statistics for triaxial accelaration: 24 features\n",
    "  3. Time series of acceleration magnitude: 51 features\n",
    "  4. Time series of triaxial acceleration: 153 features \n",
    "\n",
    "2. Normalised data for L1 regressions : now some coefficients are zero, but not many <a href='#l1_regr'>[Link to Section]</a>\n",
    "\n",
    "3. Controlling tree complexity by choosing max depth and min_sample_split: here are some charts <a href='#tree_charts'>[Link to charts]</a>\n",
    "\n",
    "4. All results so far : using 4 features sets and 2 different classifiers:  <a href='#results'>[Link to results]</a>"
   ]
  },
  {
   "cell_type": "markdown",
   "metadata": {},
   "source": [
    "-----------------------------------------------------------"
   ]
  },
  {
   "cell_type": "markdown",
   "metadata": {},
   "source": [
    "#### Imports "
   ]
  },
  {
   "cell_type": "code",
   "execution_count": 1,
   "metadata": {
    "collapsed": true
   },
   "outputs": [],
   "source": [
    "%matplotlib inline\n",
    "import matplotlib\n",
    "import matplotlib.pyplot as plt\n",
    "import numpy as np\n",
    "import pandas as pd\n",
    "import seaborn as sns"
   ]
  },
  {
   "cell_type": "code",
   "execution_count": 2,
   "metadata": {
    "collapsed": true
   },
   "outputs": [],
   "source": [
    "from sklearn.model_selection import train_test_split\n",
    "from sklearn.model_selection import GridSearchCV\n",
    "from sklearn.linear_model import LogisticRegression\n",
    "from sklearn.linear_model import LogisticRegressionCV\n",
    "from sklearn import metrics\n",
    "from sklearn import tree"
   ]
  },
  {
   "cell_type": "code",
   "execution_count": 3,
   "metadata": {
    "collapsed": false
   },
   "outputs": [
    {
     "data": {
      "text/html": [
       "<style>body {\n",
       "    margin: 0;\n",
       "    font-family: Helvetica;\n",
       "}\n",
       "table.dataframe {\n",
       "    border-collapse: collapse;\n",
       "    border: none;\n",
       "}\n",
       "table.dataframe tr {\n",
       "    border: none;\n",
       "}\n",
       "table.dataframe td, table.dataframe th {\n",
       "    margin: 0;\n",
       "    border: 1px solid white;\n",
       "    padding-left: 0.25em;\n",
       "    padding-right: 0.25em;\n",
       "}\n",
       "table.dataframe th:not(:empty) {\n",
       "    background-color: #fec;\n",
       "    text-align: left;\n",
       "    font-weight: normal;\n",
       "    font-size: 10pt;\n",
       "}\n",
       "table.dataframe tr:nth-child(2) th:empty {\n",
       "    border-left: none;\n",
       "    border-right: 1px dashed #888;\n",
       "}\n",
       "table.dataframe td {\n",
       "    border: 2px solid #ccf;\n",
       "    background-color: #f4f4ff;\n",
       "    font-size: 10pt;\n",
       "}\n",
       "h3 {\n",
       "    color: white;\n",
       "    background-color: black;\n",
       "    padding: 0.5em;\n",
       "}\n",
       "</style>"
      ],
      "text/plain": [
       "<IPython.core.display.HTML object>"
      ]
     },
     "execution_count": 3,
     "metadata": {},
     "output_type": "execute_result"
    }
   ],
   "source": [
    "from IPython.core.display import HTML\n",
    "css = open('style-table.css').read() + open('style-notebook.css').read()\n",
    "HTML('<style>{}</style>'.format(css))"
   ]
  },
  {
   "cell_type": "markdown",
   "metadata": {},
   "source": [
    "#### Helper functions"
   ]
  },
  {
   "cell_type": "code",
   "execution_count": 4,
   "metadata": {
    "collapsed": true
   },
   "outputs": [],
   "source": [
    "# normalises train data set as (X - mean / stdev) and applies the same scaling to test dataset \n",
    "def train_test_normalise(x_train, x_test):\n",
    "    mean = x_train.mean().T\n",
    "    std = x_train.std().T\n",
    "    return ((x_train - mean)/std,(x_test - mean)/std) "
   ]
  },
  {
   "cell_type": "code",
   "execution_count": 5,
   "metadata": {
    "collapsed": true
   },
   "outputs": [],
   "source": [
    "# returns labelled model coefficients \n",
    "def model_coefficients(clf, features):\n",
    "    model_coeff = pd.DataFrame(clf.coef_,columns=features, index = ['value']).T\n",
    "    model_coeff['abs_value'] = abs(model_coeff.value)\n",
    "    model_coeff = model_coeff.sort_values('abs_value', ascending = False)\n",
    "    return model_coeff"
   ]
  },
  {
   "cell_type": "code",
   "execution_count": 6,
   "metadata": {
    "collapsed": false
   },
   "outputs": [],
   "source": [
    "def model_metrics(clf, X_train, y_train, X_test, y_test, clf_name='', data_name='', info=''):\n",
    "    result = pd.DataFrame({'data_set': data_name,\n",
    "                           'num_feat': len(X_train.columns), \n",
    "                           'classifier': clf_name, \n",
    "                           'info': info,\n",
    "                           'train_accuracy': metrics.accuracy_score(y_train, clf.predict(X_train)), \n",
    "                           'train_precision': metrics.precision_score(y_train, clf.predict(X_train)), \n",
    "                           'train_recall': metrics.recall_score(y_train, clf.predict(X_train)),\n",
    "                           'test_accuracy': metrics.accuracy_score(y_test, clf.predict(X_test)), \n",
    "                           'test_precision': metrics.precision_score(y_test, clf.predict(X_test)), \n",
    "                           'test_recall': metrics.recall_score(y_test, clf.predict(X_test)),\n",
    "                          },\n",
    "                          index = [0])\n",
    "    columns = ['data_set','num_feat','classifier','test_accuracy','test_precision','test_recall',\n",
    "              'train_accuracy','train_precision','train_recall','info']\n",
    "    result = result[columns]\n",
    "    return result                                                                   "
   ]
  },
  {
   "cell_type": "markdown",
   "metadata": {},
   "source": [
    "#### Read in data dictionary for available datasets"
   ]
  },
  {
   "cell_type": "markdown",
   "metadata": {},
   "source": [
    "<a id='datasets'></a>"
   ]
  },
  {
   "cell_type": "code",
   "execution_count": 7,
   "metadata": {
    "collapsed": false
   },
   "outputs": [
    {
     "data": {
      "text/html": [
       "<div>\n",
       "<table border=\"1\" class=\"dataframe\">\n",
       "  <thead>\n",
       "    <tr style=\"text-align: right;\">\n",
       "      <th></th>\n",
       "      <th>name</th>\n",
       "      <th>desc</th>\n",
       "      <th>num_features</th>\n",
       "      <th>file</th>\n",
       "      <th>normalise</th>\n",
       "    </tr>\n",
       "    <tr>\n",
       "      <th>id</th>\n",
       "      <th></th>\n",
       "      <th></th>\n",
       "      <th></th>\n",
       "      <th></th>\n",
       "      <th></th>\n",
       "    </tr>\n",
       "  </thead>\n",
       "  <tbody>\n",
       "    <tr>\n",
       "      <th>1</th>\n",
       "      <td>magn_stats</td>\n",
       "      <td>Summary statistics on acceleration magnitude</td>\n",
       "      <td>8</td>\n",
       "      <td>data/magn_stats.csv</td>\n",
       "      <td>1</td>\n",
       "    </tr>\n",
       "    <tr>\n",
       "      <th>2</th>\n",
       "      <td>triax_stats</td>\n",
       "      <td>Summary statistics on triaxial acceleration</td>\n",
       "      <td>24</td>\n",
       "      <td>data/triax_stats.csv</td>\n",
       "      <td>1</td>\n",
       "    </tr>\n",
       "    <tr>\n",
       "      <th>3</th>\n",
       "      <td>magn_ts</td>\n",
       "      <td>Time series of acceleration magnitude</td>\n",
       "      <td>51</td>\n",
       "      <td>data/magn_ts.csv</td>\n",
       "      <td>0</td>\n",
       "    </tr>\n",
       "    <tr>\n",
       "      <th>4</th>\n",
       "      <td>triax_ts</td>\n",
       "      <td>Time series of triaxial accelaration - raw data</td>\n",
       "      <td>153</td>\n",
       "      <td>data/triax_ts.csv</td>\n",
       "      <td>0</td>\n",
       "    </tr>\n",
       "  </tbody>\n",
       "</table>\n",
       "</div>"
      ],
      "text/plain": [
       "           name                                             desc  \\\n",
       "id                                                                 \n",
       "1    magn_stats     Summary statistics on acceleration magnitude   \n",
       "2   triax_stats      Summary statistics on triaxial acceleration   \n",
       "3       magn_ts            Time series of acceleration magnitude   \n",
       "4      triax_ts  Time series of triaxial accelaration - raw data   \n",
       "\n",
       "    num_features                  file  normalise  \n",
       "id                                                 \n",
       "1              8   data/magn_stats.csv          1  \n",
       "2             24  data/triax_stats.csv          1  \n",
       "3             51      data/magn_ts.csv          0  \n",
       "4            153     data/triax_ts.csv          0  "
      ]
     },
     "execution_count": 7,
     "metadata": {},
     "output_type": "execute_result"
    }
   ],
   "source": [
    "data_dict = pd.read_csv('data/data_dict.csv', index_col = 0)\n",
    "data_dict"
   ]
  },
  {
   "cell_type": "markdown",
   "metadata": {},
   "source": [
    "## Logistic Regressions"
   ]
  },
  {
   "cell_type": "code",
   "execution_count": 8,
   "metadata": {
    "collapsed": true
   },
   "outputs": [],
   "source": [
    "# regularisation params\n",
    "Cs = [0.0001, 0.001, 0.01, 0.1, 1, 10, 100, 1000, 10000, 100000]"
   ]
  },
  {
   "cell_type": "markdown",
   "metadata": {},
   "source": [
    "### Run L1 regressions in order to see feature selection \n"
   ]
  },
  {
   "cell_type": "markdown",
   "metadata": {},
   "source": [
    "<a id='l1_regr'></a>"
   ]
  },
  {
   "cell_type": "code",
   "execution_count": 9,
   "metadata": {
    "collapsed": false
   },
   "outputs": [
    {
     "name": "stdout",
     "output_type": "stream",
     "text": [
      "Model coefficients for Logistic regression with L1 penalty. Dataset: magn_stats\n",
      "             value  abs_value\n",
      "acc_max   2.149180   2.149180\n",
      "jerk_std -1.159118   1.159118\n",
      "jerk_min -0.639210   0.639210\n",
      "acc_min   0.418522   0.418522\n",
      "jerk_max  0.348092   0.348092\n",
      "jerk_avg  0.203472   0.203472\n",
      "acc_avg  -0.112473   0.112473\n",
      "acc_std   0.000000   0.000000\n",
      "-------------------------\n",
      "Model coefficients for Logistic regression with L1 penalty. Dataset: triax_stats\n",
      "               value  abs_value\n",
      "y_min      -3.801821   3.801821\n",
      "z_std       2.490292   2.490292\n",
      "jerk_y_std -2.377287   2.377287\n",
      "y_max       2.326366   2.326366\n",
      "jerk_x_std -1.663683   1.663683\n",
      "y_std      -1.656976   1.656976\n",
      "jerk_z_std -1.478166   1.478166\n",
      "x_max       1.115367   1.115367\n",
      "y_avg       1.032113   1.032113\n",
      "jerk_x_max  1.018093   1.018093\n",
      "jerk_y_max  1.009353   1.009353\n",
      "jerk_y_min -0.853856   0.853856\n",
      "jerk_x_min -0.818253   0.818253\n",
      "x_min      -0.743213   0.743213\n",
      "x_std       0.632655   0.632655\n",
      "jerk_z_min -0.565845   0.565845\n",
      "z_avg       0.509932   0.509932\n",
      "jerk_z_max  0.508149   0.508149\n",
      "z_max      -0.474965   0.474965\n",
      "x_avg      -0.428503   0.428503\n",
      "jerk_z_avg -0.234713   0.234713\n",
      "z_min       0.164148   0.164148\n",
      "jerk_y_avg  0.022608   0.022608\n",
      "jerk_x_avg -0.012865   0.012865\n",
      "-------------------------\n"
     ]
    }
   ],
   "source": [
    "# using summary statistics\n",
    "for data_id  in [1,2]:\n",
    "    # get data \n",
    "    data_name = data_dict.get_value(data_id,'name')\n",
    "    file_name = data_dict.get_value(data_id,'file') \n",
    "    need_normalise = data_dict.get_value(data_id,'normalise') \n",
    "    print 'Model coefficients for Logistic regression with L1 penalty. Dataset:', data_name\n",
    "    data = pd.read_csv(file_name, index_col = 0)\n",
    "    # split into training and test and normalise if required\n",
    "    X_train, X_test, y_train, y_test = train_test_split(data.iloc[:,1:], data['fall'], random_state = 42, test_size = 0.4)\n",
    "    if (need_normalise == 1): \n",
    "        X_train, X_test = train_test_normalise(X_train, X_test)\n",
    "    # fit model     \n",
    "    clf = LogisticRegressionCV(Cs=Cs,penalty='l1',solver = 'liblinear',cv = 5) \n",
    "    clf.fit(X_train, y_train)\n",
    "    # print results\n",
    "    print model_coefficients(clf, X_train.columns)\n",
    "    print '-------------------------'"
   ]
  },
  {
   "cell_type": "code",
   "execution_count": 10,
   "metadata": {
    "collapsed": false
   },
   "outputs": [
    {
     "name": "stdout",
     "output_type": "stream",
     "text": [
      "Model coefficients for Logistic regression with L1 penalty. Dataset: magn_ts\n",
      "        value  abs_value\n",
      "a25  0.381733   0.381733\n",
      "a0  -0.226764   0.226764\n",
      "a10 -0.148495   0.148495\n",
      "a7  -0.126815   0.126815\n",
      "a37  0.120632   0.120632\n",
      "a15  0.111393   0.111393\n",
      "a17  0.106818   0.106818\n",
      "a44  0.088861   0.088861\n",
      "a35  0.087780   0.087780\n",
      "a41  0.079920   0.079920\n",
      "a49  0.078403   0.078403\n",
      "a2   0.075224   0.075224\n",
      "a45 -0.072261   0.072261\n",
      "a50 -0.071389   0.071389\n",
      "a9  -0.070648   0.070648\n",
      "a39  0.069900   0.069900\n",
      "a27  0.069342   0.069342\n",
      "a3  -0.069069   0.069069\n",
      "a16 -0.063975   0.063975\n",
      "a28  0.060725   0.060725\n",
      "a46  0.057964   0.057964\n",
      "a43 -0.056785   0.056785\n",
      "a47  0.050342   0.050342\n",
      "a13  0.047343   0.047343\n",
      "a22  0.044184   0.044184\n",
      "a42 -0.043418   0.043418\n",
      "a14 -0.041370   0.041370\n",
      "a36  0.040212   0.040212\n",
      "a29  0.037982   0.037982\n",
      "a6  -0.037585   0.037585\n",
      "a33  0.036963   0.036963\n",
      "a18 -0.036577   0.036577\n",
      "a48 -0.035408   0.035408\n",
      "a1  -0.033500   0.033500\n",
      "a26  0.031154   0.031154\n",
      "a38  0.026136   0.026136\n",
      "a23  0.024413   0.024413\n",
      "a40 -0.023423   0.023423\n",
      "a30 -0.022316   0.022316\n",
      "a12 -0.021677   0.021677\n",
      "a24 -0.020539   0.020539\n",
      "a32  0.018228   0.018228\n",
      "a8   0.017417   0.017417\n",
      "a11  0.013819   0.013819\n",
      "a5  -0.010389   0.010389\n",
      "a4  -0.010036   0.010036\n",
      "a31 -0.009255   0.009255\n",
      "a21  0.009167   0.009167\n",
      "a19  0.008762   0.008762\n",
      "a34  0.000000   0.000000\n",
      "a20  0.000000   0.000000\n"
     ]
    }
   ],
   "source": [
    "# using time series of acceleration magnitude\n",
    "for data_id  in [3]:\n",
    "    # get data \n",
    "    data_name = data_dict.get_value(data_id,'name')\n",
    "    file_name = data_dict.get_value(data_id,'file') \n",
    "    need_normalise = data_dict.get_value(data_id,'normalise') \n",
    "    print 'Model coefficients for Logistic regression with L1 penalty. Dataset:', data_name\n",
    "    data = pd.read_csv(file_name, index_col = 0)\n",
    "    # split into training and test and normalise if required\n",
    "    X_train, X_test, y_train, y_test = train_test_split(data.iloc[:,1:], data['fall'], random_state = 42, test_size = 0.4)\n",
    "    if (need_normalise == 1): \n",
    "        X_train, X_test = train_test_normalise(X_train, X_test)\n",
    "    # fit model     \n",
    "    clf = LogisticRegressionCV(Cs=Cs,penalty='l1',solver = 'liblinear',cv = 5) \n",
    "    clf.fit(X_train, y_train)\n",
    "    # print results\n",
    "    print model_coefficients(clf, X_train.columns)"
   ]
  },
  {
   "cell_type": "markdown",
   "metadata": {},
   "source": [
    "### Logistic regression using cross validation to choose regularisation parameter and penalty type"
   ]
  },
  {
   "cell_type": "code",
   "execution_count": 11,
   "metadata": {
    "collapsed": true
   },
   "outputs": [],
   "source": [
    "param_grid = {'C': Cs, 'penalty':['l1','l2']}"
   ]
  },
  {
   "cell_type": "code",
   "execution_count": 12,
   "metadata": {
    "collapsed": true
   },
   "outputs": [],
   "source": [
    "res_store = pd.DataFrame()"
   ]
  },
  {
   "cell_type": "code",
   "execution_count": 13,
   "metadata": {
    "collapsed": false
   },
   "outputs": [
    {
     "data": {
      "text/html": [
       "<div>\n",
       "<table border=\"1\" class=\"dataframe\">\n",
       "  <thead>\n",
       "    <tr style=\"text-align: right;\">\n",
       "      <th></th>\n",
       "      <th>data_set</th>\n",
       "      <th>num_feat</th>\n",
       "      <th>classifier</th>\n",
       "      <th>test_accuracy</th>\n",
       "      <th>test_precision</th>\n",
       "      <th>test_recall</th>\n",
       "      <th>train_accuracy</th>\n",
       "      <th>train_precision</th>\n",
       "      <th>train_recall</th>\n",
       "      <th>info</th>\n",
       "    </tr>\n",
       "  </thead>\n",
       "  <tbody>\n",
       "    <tr>\n",
       "      <th>0</th>\n",
       "      <td>magn_stats</td>\n",
       "      <td>8</td>\n",
       "      <td>LogRegr</td>\n",
       "      <td>0.858874</td>\n",
       "      <td>0.770370</td>\n",
       "      <td>0.604651</td>\n",
       "      <td>0.872593</td>\n",
       "      <td>0.795031</td>\n",
       "      <td>0.633037</td>\n",
       "      <td>{'penalty': 'l1', 'C': 0.1}</td>\n",
       "    </tr>\n",
       "    <tr>\n",
       "      <th>0</th>\n",
       "      <td>triax_stats</td>\n",
       "      <td>24</td>\n",
       "      <td>LogRegr</td>\n",
       "      <td>0.942979</td>\n",
       "      <td>0.920382</td>\n",
       "      <td>0.840116</td>\n",
       "      <td>0.956026</td>\n",
       "      <td>0.941239</td>\n",
       "      <td>0.871414</td>\n",
       "      <td>{'penalty': 'l2', 'C': 1}</td>\n",
       "    </tr>\n",
       "    <tr>\n",
       "      <th>0</th>\n",
       "      <td>magn_ts</td>\n",
       "      <td>51</td>\n",
       "      <td>LogRegr</td>\n",
       "      <td>0.919102</td>\n",
       "      <td>0.888702</td>\n",
       "      <td>0.765988</td>\n",
       "      <td>0.924887</td>\n",
       "      <td>0.898967</td>\n",
       "      <td>0.774481</td>\n",
       "      <td>{'penalty': 'l1', 'C': 1}</td>\n",
       "    </tr>\n",
       "    <tr>\n",
       "      <th>0</th>\n",
       "      <td>triax_ts</td>\n",
       "      <td>153</td>\n",
       "      <td>LogRegr</td>\n",
       "      <td>0.826443</td>\n",
       "      <td>0.873606</td>\n",
       "      <td>0.341570</td>\n",
       "      <td>0.832660</td>\n",
       "      <td>0.890585</td>\n",
       "      <td>0.346192</td>\n",
       "      <td>{'penalty': 'l1', 'C': 0.01}</td>\n",
       "    </tr>\n",
       "  </tbody>\n",
       "</table>\n",
       "</div>"
      ],
      "text/plain": [
       "      data_set  num_feat classifier  test_accuracy  test_precision  \\\n",
       "0   magn_stats         8    LogRegr       0.858874        0.770370   \n",
       "0  triax_stats        24    LogRegr       0.942979        0.920382   \n",
       "0      magn_ts        51    LogRegr       0.919102        0.888702   \n",
       "0     triax_ts       153    LogRegr       0.826443        0.873606   \n",
       "\n",
       "   test_recall  train_accuracy  train_precision  train_recall  \\\n",
       "0     0.604651        0.872593         0.795031      0.633037   \n",
       "0     0.840116        0.956026         0.941239      0.871414   \n",
       "0     0.765988        0.924887         0.898967      0.774481   \n",
       "0     0.341570        0.832660         0.890585      0.346192   \n",
       "\n",
       "                           info  \n",
       "0   {'penalty': 'l1', 'C': 0.1}  \n",
       "0     {'penalty': 'l2', 'C': 1}  \n",
       "0     {'penalty': 'l1', 'C': 1}  \n",
       "0  {'penalty': 'l1', 'C': 0.01}  "
      ]
     },
     "execution_count": 13,
     "metadata": {},
     "output_type": "execute_result"
    }
   ],
   "source": [
    "# run model for all datasets\n",
    "for data_id  in [1,2,3,4]:\n",
    "    # get data \n",
    "    data_name = data_dict.get_value(data_id,'name')\n",
    "    file_name = data_dict.get_value(data_id,'file') \n",
    "    need_normalise = data_dict.get_value(data_id,'normalise') \n",
    "    data = pd.read_csv(file_name, index_col = 0)\n",
    "    # split into training and test \n",
    "    X_train, X_test, y_train, y_test = train_test_split(data.iloc[:,1:], data['fall'], \n",
    "                                            random_state = 42, test_size = 0.4)\n",
    "    # normalise if required\n",
    "    if (need_normalise == 1): \n",
    "        X_train, X_test = train_test_normalise(X_train, X_test)\n",
    "    # grid search for parameters \n",
    "    clf = GridSearchCV(LogisticRegression(), param_grid, cv = 5)\n",
    "    clf.fit(X_train, y_train)\n",
    "    # record results\n",
    "    mm =  model_metrics(clf, X_train, y_train, X_test, y_test, clf_name='LogRegr', \n",
    "                        data_name=data_name, info=str(clf.best_params_))\n",
    "    res_store = pd.concat([res_store, mm])\n",
    "res_store    "
   ]
  },
  {
   "cell_type": "markdown",
   "metadata": {},
   "source": [
    "--------\n",
    "## Decision Trees"
   ]
  },
  {
   "cell_type": "markdown",
   "metadata": {},
   "source": [
    "### Controlling tree complexity"
   ]
  },
  {
   "cell_type": "code",
   "execution_count": 14,
   "metadata": {
    "collapsed": true
   },
   "outputs": [],
   "source": [
    "# try different tree depth - using 8 features\n",
    "data_id = 2\n",
    "# get data \n",
    "data_name = data_dict.get_value(data_id,'name')\n",
    "file_name = data_dict.get_value(data_id,'file') \n",
    "need_normalise = data_dict.get_value(data_id,'normalise') \n",
    "data = pd.read_csv(file_name, index_col = 0)\n",
    "# split into training and test and normalise if required\n",
    "X_train, X_test, y_train, y_test = train_test_split(data.iloc[:,1:], data['fall'], random_state = 42, test_size = 0.4)\n",
    "if (need_normalise == 1): \n",
    "        X_train, X_test = train_test_normalise(X_train, X_test)"
   ]
  },
  {
   "cell_type": "markdown",
   "metadata": {},
   "source": [
    "<a id='tree_charts'></a>"
   ]
  },
  {
   "cell_type": "markdown",
   "metadata": {},
   "source": [
    "#### Controlling tree depth"
   ]
  },
  {
   "cell_type": "code",
   "execution_count": 15,
   "metadata": {
    "collapsed": false
   },
   "outputs": [
    {
     "data": {
      "text/plain": [
       "<matplotlib.text.Text at 0x1124afad0>"
      ]
     },
     "execution_count": 15,
     "metadata": {},
     "output_type": "execute_result"
    },
    {
     "data": {
      "image/png": "[encoded data removed]",
      "text/plain": [
       "<matplotlib.figure.Figure at 0x1114a9f90>"
      ]
     },
     "metadata": {},
     "output_type": "display_data"
    }
   ],
   "source": [
    "tree_depth = np.arange(3,30,2)\n",
    "tree_store = pd.DataFrame()\n",
    "for i in tree_depth:\n",
    "    clf = tree.DecisionTreeClassifier(max_depth = i)\n",
    "    clf.fit(X_train, y_train)\n",
    "    mm = model_metrics(clf, X_train, y_train, X_test, y_test, clf_name='Tree', \n",
    "                        data_name=data_name, info=i)\n",
    "    tree_store = pd.concat([tree_store, mm])\n",
    "\n",
    "tree_store['max_depth'] = tree_store['info']\n",
    "tree_store = tree_store.set_index('max_depth')\n",
    "# plot comparison \n",
    "fig, (ax1, ax2, ax3) = plt.subplots(1,3, sharey = True, figsize = (8,3))\n",
    "tree_store[['test_accuracy','train_accuracy']].plot(title = \"Accuracy\", ax = ax1)\n",
    "tree_store[['test_precision','train_precision']].plot(title = \"Precision\", ax = ax2)\n",
    "tree_store[['test_recall','train_recall']].plot(title = \"Recall\", ax = ax3)\n",
    "plt.tight_layout(pad=0.4, w_pad=0.5, h_pad=1.0)\n",
    "plt.subplots_adjust(top=0.85)\n",
    "fig.suptitle(\"Controlling Tree Complexity: Varying Tree Depth\")"
   ]
  },
  {
   "cell_type": "markdown",
   "metadata": {},
   "source": [
    "#### Controlling min sample split"
   ]
  },
  {
   "cell_type": "code",
   "execution_count": 16,
   "metadata": {
    "collapsed": false
   },
   "outputs": [
    {
     "data": {
      "text/plain": [
       "(98, 2)"
      ]
     },
     "execution_count": 16,
     "metadata": {},
     "output_type": "execute_result"
    },
    {
     "data": {
      "image/png": "[encoded data removed]",
      "text/plain": [
       "<matplotlib.figure.Figure at 0x11255c3d0>"
      ]
     },
     "metadata": {},
     "output_type": "display_data"
    }
   ],
   "source": [
    "# try different values for min_samples_split\n",
    "tree_store = pd.DataFrame()\n",
    "min_samples_split = np.arange(2,100,2)\n",
    "for i in min_samples_split:\n",
    "    clf = tree.DecisionTreeClassifier(min_samples_split = i)\n",
    "    clf.fit(X_train, y_train)\n",
    "    mm = model_metrics(clf, X_train, y_train, X_test, y_test, clf_name='Tree', \n",
    "                        data_name=data_name, info=i)\n",
    "    tree_store = pd.concat([tree_store, mm])\n",
    "\n",
    "tree_store['min_samples_split'] = tree_store['info']\n",
    "tree_store = tree_store.set_index('min_samples_split') \n",
    "    \n",
    "# plot comparison \n",
    "fig, (ax1, ax2, ax3) = plt.subplots(1,3, sharey = True, figsize = (8,3))\n",
    "tree_store[['test_accuracy','train_accuracy']].plot(title = \"Accuracy\", ax = ax1)\n",
    "tree_store[['test_precision','train_precision']].plot(title = \"Precision\", ax = ax2)\n",
    "tree_store[['test_recall','train_recall']].plot(title = \"Recall\", ax = ax3)\n",
    "ax2.set_xlabel('min_samples_split (reversed order)')\n",
    "plt.tight_layout(pad=0.4, w_pad=0.5, h_pad=1.0)\n",
    "plt.subplots_adjust(top=0.85)\n",
    "fig.suptitle(\"Controlling Tree Complexity: Varying min_samples_split\")\n",
    "ax1.set_xlim(max(min_samples_split),min(min_samples_split))\n",
    "ax2.set_xlim(max(min_samples_split),min(min_samples_split))\n",
    "ax3.set_xlim(max(min_samples_split),min(min_samples_split))"
   ]
  },
  {
   "cell_type": "markdown",
   "metadata": {},
   "source": [
    "### Use cross validation to find optimal tree complexity"
   ]
  },
  {
   "cell_type": "code",
   "execution_count": 17,
   "metadata": {
    "collapsed": true
   },
   "outputs": [],
   "source": [
    "param_grid = {'max_depth': np.arange(3,15,2), 'min_samples_split': np.arange(20,80,5)}"
   ]
  },
  {
   "cell_type": "code",
   "execution_count": 18,
   "metadata": {
    "collapsed": true
   },
   "outputs": [],
   "source": [
    "res_store_2 = pd.DataFrame()"
   ]
  },
  {
   "cell_type": "code",
   "execution_count": 19,
   "metadata": {
    "collapsed": false
   },
   "outputs": [
    {
     "name": "stdout",
     "output_type": "stream",
     "text": [
      "magn_stats\n",
      "triax_stats\n",
      "magn_ts\n",
      "triax_ts\n"
     ]
    },
    {
     "data": {
      "text/html": [
       "<div>\n",
       "<table border=\"1\" class=\"dataframe\">\n",
       "  <thead>\n",
       "    <tr style=\"text-align: right;\">\n",
       "      <th></th>\n",
       "      <th>data_set</th>\n",
       "      <th>num_feat</th>\n",
       "      <th>classifier</th>\n",
       "      <th>test_accuracy</th>\n",
       "      <th>test_precision</th>\n",
       "      <th>test_recall</th>\n",
       "      <th>train_accuracy</th>\n",
       "      <th>train_precision</th>\n",
       "      <th>train_recall</th>\n",
       "      <th>info</th>\n",
       "    </tr>\n",
       "  </thead>\n",
       "  <tbody>\n",
       "    <tr>\n",
       "      <th>0</th>\n",
       "      <td>magn_stats</td>\n",
       "      <td>8</td>\n",
       "      <td>Tree</td>\n",
       "      <td>0.881326</td>\n",
       "      <td>0.830540</td>\n",
       "      <td>0.648256</td>\n",
       "      <td>0.915617</td>\n",
       "      <td>0.901961</td>\n",
       "      <td>0.727992</td>\n",
       "      <td>{'min_samples_split': 40, 'max_depth': 7}</td>\n",
       "    </tr>\n",
       "    <tr>\n",
       "      <th>0</th>\n",
       "      <td>triax_stats</td>\n",
       "      <td>24</td>\n",
       "      <td>Tree</td>\n",
       "      <td>0.942267</td>\n",
       "      <td>0.908385</td>\n",
       "      <td>0.850291</td>\n",
       "      <td>0.963870</td>\n",
       "      <td>0.953537</td>\n",
       "      <td>0.893175</td>\n",
       "      <td>{'min_samples_split': 40, 'max_depth': 7}</td>\n",
       "    </tr>\n",
       "    <tr>\n",
       "      <th>0</th>\n",
       "      <td>magn_ts</td>\n",
       "      <td>51</td>\n",
       "      <td>Tree</td>\n",
       "      <td>0.906272</td>\n",
       "      <td>0.887067</td>\n",
       "      <td>0.707849</td>\n",
       "      <td>0.949132</td>\n",
       "      <td>0.951302</td>\n",
       "      <td>0.830861</td>\n",
       "      <td>{'min_samples_split': 25, 'max_depth': 9}</td>\n",
       "    </tr>\n",
       "    <tr>\n",
       "      <th>0</th>\n",
       "      <td>triax_ts</td>\n",
       "      <td>153</td>\n",
       "      <td>Tree</td>\n",
       "      <td>0.915895</td>\n",
       "      <td>0.871711</td>\n",
       "      <td>0.770349</td>\n",
       "      <td>0.952698</td>\n",
       "      <td>0.945175</td>\n",
       "      <td>0.852621</td>\n",
       "      <td>{'min_samples_split': 25, 'max_depth': 7}</td>\n",
       "    </tr>\n",
       "  </tbody>\n",
       "</table>\n",
       "</div>"
      ],
      "text/plain": [
       "      data_set  num_feat classifier  test_accuracy  test_precision  \\\n",
       "0   magn_stats         8       Tree       0.881326        0.830540   \n",
       "0  triax_stats        24       Tree       0.942267        0.908385   \n",
       "0      magn_ts        51       Tree       0.906272        0.887067   \n",
       "0     triax_ts       153       Tree       0.915895        0.871711   \n",
       "\n",
       "   test_recall  train_accuracy  train_precision  train_recall  \\\n",
       "0     0.648256        0.915617         0.901961      0.727992   \n",
       "0     0.850291        0.963870         0.953537      0.893175   \n",
       "0     0.707849        0.949132         0.951302      0.830861   \n",
       "0     0.770349        0.952698         0.945175      0.852621   \n",
       "\n",
       "                                        info  \n",
       "0  {'min_samples_split': 40, 'max_depth': 7}  \n",
       "0  {'min_samples_split': 40, 'max_depth': 7}  \n",
       "0  {'min_samples_split': 25, 'max_depth': 9}  \n",
       "0  {'min_samples_split': 25, 'max_depth': 7}  "
      ]
     },
     "execution_count": 19,
     "metadata": {},
     "output_type": "execute_result"
    }
   ],
   "source": [
    "# run model for all datasets\n",
    "for data_id  in [1,2,3,4]:\n",
    "    # get data \n",
    "    data_name = data_dict.get_value(data_id,'name')\n",
    "    print data_name\n",
    "    file_name = data_dict.get_value(data_id,'file') \n",
    "    need_normalise = data_dict.get_value(data_id,'normalise') \n",
    "    data = pd.read_csv(file_name, index_col = 0)\n",
    "    # split into training and test \n",
    "    X_train, X_test, y_train, y_test = train_test_split(data.iloc[:,1:], data['fall'], \n",
    "                                            random_state = 42, test_size = 0.4)\n",
    "    # normalise if required\n",
    "    if (need_normalise == 1): \n",
    "        X_train, X_test = train_test_normalise(X_train, X_test)\n",
    "    # grid search for parameters \n",
    "    clf = GridSearchCV(tree.DecisionTreeClassifier(), param_grid, cv = 5)\n",
    "    clf.fit(X_train, y_train)\n",
    "    # record results\n",
    "    mm =  model_metrics(clf, X_train, y_train, X_test, y_test, clf_name='Tree', \n",
    "                        data_name=data_name, info=str(clf.best_params_))\n",
    "    res_store_2 = pd.concat([res_store_2, mm])\n",
    "res_store_2    "
   ]
  },
  {
   "cell_type": "markdown",
   "metadata": {},
   "source": [
    "----------------------\n",
    "## Results so far "
   ]
  },
  {
   "cell_type": "markdown",
   "metadata": {},
   "source": [
    "<a id='results'></a>"
   ]
  },
  {
   "cell_type": "code",
   "execution_count": 20,
   "metadata": {
    "collapsed": false
   },
   "outputs": [
    {
     "data": {
      "text/html": [
       "<div>\n",
       "<table border=\"1\" class=\"dataframe\">\n",
       "  <thead>\n",
       "    <tr style=\"text-align: right;\">\n",
       "      <th></th>\n",
       "      <th>data_set</th>\n",
       "      <th>num_feat</th>\n",
       "      <th>classifier</th>\n",
       "      <th>test_accuracy</th>\n",
       "      <th>test_precision</th>\n",
       "      <th>test_recall</th>\n",
       "      <th>train_accuracy</th>\n",
       "      <th>train_precision</th>\n",
       "      <th>train_recall</th>\n",
       "      <th>info</th>\n",
       "    </tr>\n",
       "  </thead>\n",
       "  <tbody>\n",
       "    <tr>\n",
       "      <th>0</th>\n",
       "      <td>magn_stats</td>\n",
       "      <td>8</td>\n",
       "      <td>LogRegr</td>\n",
       "      <td>0.858874</td>\n",
       "      <td>0.770370</td>\n",
       "      <td>0.604651</td>\n",
       "      <td>0.872593</td>\n",
       "      <td>0.795031</td>\n",
       "      <td>0.633037</td>\n",
       "      <td>{'penalty': 'l1', 'C': 0.1}</td>\n",
       "    </tr>\n",
       "    <tr>\n",
       "      <th>0</th>\n",
       "      <td>magn_stats</td>\n",
       "      <td>8</td>\n",
       "      <td>Tree</td>\n",
       "      <td>0.881326</td>\n",
       "      <td>0.830540</td>\n",
       "      <td>0.648256</td>\n",
       "      <td>0.915617</td>\n",
       "      <td>0.901961</td>\n",
       "      <td>0.727992</td>\n",
       "      <td>{'min_samples_split': 40, 'max_depth': 7}</td>\n",
       "    </tr>\n",
       "    <tr>\n",
       "      <th>0</th>\n",
       "      <td>triax_stats</td>\n",
       "      <td>24</td>\n",
       "      <td>LogRegr</td>\n",
       "      <td>0.942979</td>\n",
       "      <td>0.920382</td>\n",
       "      <td>0.840116</td>\n",
       "      <td>0.956026</td>\n",
       "      <td>0.941239</td>\n",
       "      <td>0.871414</td>\n",
       "      <td>{'penalty': 'l2', 'C': 1}</td>\n",
       "    </tr>\n",
       "    <tr>\n",
       "      <th>0</th>\n",
       "      <td>triax_stats</td>\n",
       "      <td>24</td>\n",
       "      <td>Tree</td>\n",
       "      <td>0.942267</td>\n",
       "      <td>0.908385</td>\n",
       "      <td>0.850291</td>\n",
       "      <td>0.963870</td>\n",
       "      <td>0.953537</td>\n",
       "      <td>0.893175</td>\n",
       "      <td>{'min_samples_split': 40, 'max_depth': 7}</td>\n",
       "    </tr>\n",
       "    <tr>\n",
       "      <th>0</th>\n",
       "      <td>magn_ts</td>\n",
       "      <td>51</td>\n",
       "      <td>LogRegr</td>\n",
       "      <td>0.919102</td>\n",
       "      <td>0.888702</td>\n",
       "      <td>0.765988</td>\n",
       "      <td>0.924887</td>\n",
       "      <td>0.898967</td>\n",
       "      <td>0.774481</td>\n",
       "      <td>{'penalty': 'l1', 'C': 1}</td>\n",
       "    </tr>\n",
       "    <tr>\n",
       "      <th>0</th>\n",
       "      <td>magn_ts</td>\n",
       "      <td>51</td>\n",
       "      <td>Tree</td>\n",
       "      <td>0.906272</td>\n",
       "      <td>0.887067</td>\n",
       "      <td>0.707849</td>\n",
       "      <td>0.949132</td>\n",
       "      <td>0.951302</td>\n",
       "      <td>0.830861</td>\n",
       "      <td>{'min_samples_split': 25, 'max_depth': 9}</td>\n",
       "    </tr>\n",
       "    <tr>\n",
       "      <th>0</th>\n",
       "      <td>triax_ts</td>\n",
       "      <td>153</td>\n",
       "      <td>LogRegr</td>\n",
       "      <td>0.826443</td>\n",
       "      <td>0.873606</td>\n",
       "      <td>0.341570</td>\n",
       "      <td>0.832660</td>\n",
       "      <td>0.890585</td>\n",
       "      <td>0.346192</td>\n",
       "      <td>{'penalty': 'l1', 'C': 0.01}</td>\n",
       "    </tr>\n",
       "    <tr>\n",
       "      <th>0</th>\n",
       "      <td>triax_ts</td>\n",
       "      <td>153</td>\n",
       "      <td>Tree</td>\n",
       "      <td>0.915895</td>\n",
       "      <td>0.871711</td>\n",
       "      <td>0.770349</td>\n",
       "      <td>0.952698</td>\n",
       "      <td>0.945175</td>\n",
       "      <td>0.852621</td>\n",
       "      <td>{'min_samples_split': 25, 'max_depth': 7}</td>\n",
       "    </tr>\n",
       "  </tbody>\n",
       "</table>\n",
       "</div>"
      ],
      "text/plain": [
       "      data_set  num_feat classifier  test_accuracy  test_precision  \\\n",
       "0   magn_stats         8    LogRegr       0.858874        0.770370   \n",
       "0   magn_stats         8       Tree       0.881326        0.830540   \n",
       "0  triax_stats        24    LogRegr       0.942979        0.920382   \n",
       "0  triax_stats        24       Tree       0.942267        0.908385   \n",
       "0      magn_ts        51    LogRegr       0.919102        0.888702   \n",
       "0      magn_ts        51       Tree       0.906272        0.887067   \n",
       "0     triax_ts       153    LogRegr       0.826443        0.873606   \n",
       "0     triax_ts       153       Tree       0.915895        0.871711   \n",
       "\n",
       "   test_recall  train_accuracy  train_precision  train_recall  \\\n",
       "0     0.604651        0.872593         0.795031      0.633037   \n",
       "0     0.648256        0.915617         0.901961      0.727992   \n",
       "0     0.840116        0.956026         0.941239      0.871414   \n",
       "0     0.850291        0.963870         0.953537      0.893175   \n",
       "0     0.765988        0.924887         0.898967      0.774481   \n",
       "0     0.707849        0.949132         0.951302      0.830861   \n",
       "0     0.341570        0.832660         0.890585      0.346192   \n",
       "0     0.770349        0.952698         0.945175      0.852621   \n",
       "\n",
       "                                        info  \n",
       "0                {'penalty': 'l1', 'C': 0.1}  \n",
       "0  {'min_samples_split': 40, 'max_depth': 7}  \n",
       "0                  {'penalty': 'l2', 'C': 1}  \n",
       "0  {'min_samples_split': 40, 'max_depth': 7}  \n",
       "0                  {'penalty': 'l1', 'C': 1}  \n",
       "0  {'min_samples_split': 25, 'max_depth': 9}  \n",
       "0               {'penalty': 'l1', 'C': 0.01}  \n",
       "0  {'min_samples_split': 25, 'max_depth': 7}  "
      ]
     },
     "execution_count": 20,
     "metadata": {},
     "output_type": "execute_result"
    }
   ],
   "source": [
    "res = pd.concat([res_store, res_store_2])\n",
    "res = res.sort_values('num_feat')\n",
    "res"
   ]
  },
  {
   "cell_type": "code",
   "execution_count": null,
   "metadata": {
    "collapsed": true
   },
   "outputs": [],
   "source": []
  },
  {
   "cell_type": "code",
   "execution_count": null,
   "metadata": {
    "collapsed": true
   },
   "outputs": [],
   "source": []
  },
  {
   "cell_type": "code",
   "execution_count": null,
   "metadata": {
    "collapsed": true
   },
   "outputs": [],
   "source": []
  },
  {
   "cell_type": "code",
   "execution_count": null,
   "metadata": {
    "collapsed": true
   },
   "outputs": [],
   "source": []
  },
  {
   "cell_type": "code",
   "execution_count": null,
   "metadata": {
    "collapsed": true
   },
   "outputs": [],
   "source": []
  },
  {
   "cell_type": "code",
   "execution_count": null,
   "metadata": {
    "collapsed": true
   },
   "outputs": [],
   "source": []
  },
  {
   "cell_type": "code",
   "execution_count": null,
   "metadata": {
    "collapsed": true
   },
   "outputs": [],
   "source": []
  }
 ],
 "metadata": {
  "anaconda-cloud": {},
  "kernelspec": {
   "display_name": "Python [conda root]",
   "language": "python",
   "name": "conda-root-py"
  },
  "language_info": {
   "codemirror_mode": {
    "name": "ipython",
    "version": 2
   },
   "file_extension": ".py",
   "mimetype": "text/x-python",
   "name": "python",
   "nbconvert_exporter": "python",
   "pygments_lexer": "ipython2",
   "version": "2.7.12"
  }
 },
 "nbformat": 4,
 "nbformat_minor": 1
}
