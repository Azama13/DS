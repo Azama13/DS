{
 "cells": [
  {
   "cell_type": "markdown",
   "metadata": {},
   "source": [
    "****\n",
    "## XML exercise\n",
    "\n",
    "Using data in 'data/mondial_database.xml', the examples above, and refering to https://docs.python.org/2.7/library/xml.etree.elementtree.html, find\n",
    "\n",
    "1. 10 countries with the lowest infant mortality rates\n",
    "2. 10 cities with the largest population\n",
    "3. 10 ethnic groups with the largest overall populations (sum of best/latest estimates over all countries)\n",
    "4. name and country of a) longest river, b) largest lake and c) airport at highest elevation"
   ]
  },
  {
   "cell_type": "markdown",
   "metadata": {},
   "source": [
    "###  Import the libraries and parse in the xml document as an Element tree"
   ]
  },
  {
   "cell_type": "code",
   "execution_count": 1,
   "metadata": {
    "collapsed": true
   },
   "outputs": [],
   "source": [
    "import numpy as np\n",
    "import pandas as pd\n",
    "from xml.etree import ElementTree as ET"
   ]
  },
  {
   "cell_type": "code",
   "execution_count": 2,
   "metadata": {
    "collapsed": true
   },
   "outputs": [],
   "source": [
    "document = ET.parse( './data/mondial_database.xml' )"
   ]
  },
  {
   "cell_type": "markdown",
   "metadata": {},
   "source": [
    "*****\n",
    "### Exercise 1: Find 10 countries with the lowest mortality rate"
   ]
  },
  {
   "cell_type": "code",
   "execution_count": 3,
   "metadata": {
    "collapsed": true
   },
   "outputs": [],
   "source": [
    "# create a dictionary for infant mortality data by country \n",
    "data = dict()\n",
    "\n",
    "# iterate over all countries and get infant mortality , if not available record NaN\n",
    "for element in document.iterfind('country'):\n",
    "    country_name = element.find('name').text \n",
    "    subelement = element.find('infant_mortality')\n",
    "    if subelement is None:\n",
    "        infant_mortality = np.NaN\n",
    "    else:\n",
    "        infant_mortality = float(subelement.text)\n",
    "    data[country_name] = infant_mortality"
   ]
  },
  {
   "cell_type": "code",
   "execution_count": 4,
   "metadata": {
    "collapsed": false
   },
   "outputs": [
    {
     "data": {
      "text/html": [
       "<div>\n",
       "<table border=\"1\" class=\"dataframe\">\n",
       "  <thead>\n",
       "    <tr style=\"text-align: right;\">\n",
       "      <th></th>\n",
       "      <th>infant_mortality</th>\n",
       "    </tr>\n",
       "  </thead>\n",
       "  <tbody>\n",
       "    <tr>\n",
       "      <th>Canada</th>\n",
       "      <td>4.71</td>\n",
       "    </tr>\n",
       "    <tr>\n",
       "      <th>Brazil</th>\n",
       "      <td>19.21</td>\n",
       "    </tr>\n",
       "    <tr>\n",
       "      <th>Sao Tome and Principe</th>\n",
       "      <td>49.16</td>\n",
       "    </tr>\n",
       "    <tr>\n",
       "      <th>Turkmenistan</th>\n",
       "      <td>38.13</td>\n",
       "    </tr>\n",
       "    <tr>\n",
       "      <th>Saint Helena</th>\n",
       "      <td>17.63</td>\n",
       "    </tr>\n",
       "  </tbody>\n",
       "</table>\n",
       "</div>"
      ],
      "text/plain": [
       "                       infant_mortality\n",
       "Canada                             4.71\n",
       "Brazil                            19.21\n",
       "Sao Tome and Principe             49.16\n",
       "Turkmenistan                      38.13\n",
       "Saint Helena                      17.63"
      ]
     },
     "execution_count": 4,
     "metadata": {},
     "output_type": "execute_result"
    }
   ],
   "source": [
    "# create a dataframe from the data dictionary\n",
    "df = pd.DataFrame.from_dict(data, orient='index')\n",
    "df.columns = ['infant_mortality']\n",
    "df.head()"
   ]
  },
  {
   "cell_type": "code",
   "execution_count": 5,
   "metadata": {
    "collapsed": false
   },
   "outputs": [
    {
     "name": "stdout",
     "output_type": "stream",
     "text": [
      "10 Countries with Lowest Infant Mortality rate\n",
      "                infant_mortality\n",
      "Monaco                      1.81\n",
      "Japan                       2.13\n",
      "Norway                      2.48\n",
      "Bermuda                     2.48\n",
      "Singapore                   2.53\n",
      "Sweden                      2.60\n",
      "Czech Republic              2.63\n",
      "Hong Kong                   2.73\n",
      "Macao                       3.13\n",
      "Iceland                     3.15\n"
     ]
    }
   ],
   "source": [
    "# output the countries with lowest mortality \n",
    "print '10 Countries with Lowest Infant Mortality rate'\n",
    "print df.sort_values('infant_mortality').head(10)"
   ]
  },
  {
   "cell_type": "markdown",
   "metadata": {},
   "source": [
    "*****\n",
    "### Exercise 2: Find 10 cities with largest population"
   ]
  },
  {
   "cell_type": "code",
   "execution_count": 6,
   "metadata": {
    "collapsed": false
   },
   "outputs": [],
   "source": [
    "# create a dictionary of population by (city, year ) key \n",
    "data = dict() \n",
    "\n",
    "# iterate over all cities in the XML tree\n",
    "for element in document.getiterator('city'):\n",
    "    city = element.find(\"name\").text\n",
    "    for subelement in element.iterfind('population'):\n",
    "        year = int(subelement.get(\"year\"))\n",
    "        population = float(subelement.text)\n",
    "        data[(city,year)] = population"
   ]
  },
  {
   "cell_type": "code",
   "execution_count": 7,
   "metadata": {
    "collapsed": false
   },
   "outputs": [
    {
     "data": {
      "text/html": [
       "<div>\n",
       "<table border=\"1\" class=\"dataframe\">\n",
       "  <thead>\n",
       "    <tr style=\"text-align: right;\">\n",
       "      <th></th>\n",
       "      <th>city</th>\n",
       "      <th>year</th>\n",
       "      <th>population</th>\n",
       "    </tr>\n",
       "  </thead>\n",
       "  <tbody>\n",
       "    <tr>\n",
       "      <th>0</th>\n",
       "      <td>Saarbrücken</td>\n",
       "      <td>2011</td>\n",
       "      <td>175853.0</td>\n",
       "    </tr>\n",
       "    <tr>\n",
       "      <th>1</th>\n",
       "      <td>Patra</td>\n",
       "      <td>1991</td>\n",
       "      <td>190463.0</td>\n",
       "    </tr>\n",
       "    <tr>\n",
       "      <th>2</th>\n",
       "      <td>Asyut</td>\n",
       "      <td>1996</td>\n",
       "      <td>343662.0</td>\n",
       "    </tr>\n",
       "    <tr>\n",
       "      <th>3</th>\n",
       "      <td>Comayagua</td>\n",
       "      <td>2001</td>\n",
       "      <td>87474.0</td>\n",
       "    </tr>\n",
       "    <tr>\n",
       "      <th>4</th>\n",
       "      <td>Cheltenham</td>\n",
       "      <td>2011</td>\n",
       "      <td>116447.0</td>\n",
       "    </tr>\n",
       "  </tbody>\n",
       "</table>\n",
       "</div>"
      ],
      "text/plain": [
       "          city  year  population\n",
       "0  Saarbrücken  2011    175853.0\n",
       "1        Patra  1991    190463.0\n",
       "2        Asyut  1996    343662.0\n",
       "3    Comayagua  2001     87474.0\n",
       "4   Cheltenham  2011    116447.0"
      ]
     },
     "execution_count": 7,
     "metadata": {},
     "output_type": "execute_result"
    }
   ],
   "source": [
    "# create a dataframe with city populations by year\n",
    "df = pd.DataFrame.from_dict(data, orient = 'index')\n",
    "df.index = pd.MultiIndex.from_tuples(df.index)\n",
    "df = df.reset_index()\n",
    "df.columns = ['city', 'year', 'population']\n",
    "df.head()"
   ]
  },
  {
   "cell_type": "code",
   "execution_count": 8,
   "metadata": {
    "collapsed": false
   },
   "outputs": [
    {
     "data": {
      "text/html": [
       "<div>\n",
       "<table border=\"1\" class=\"dataframe\">\n",
       "  <thead>\n",
       "    <tr style=\"text-align: right;\">\n",
       "      <th></th>\n",
       "      <th>city</th>\n",
       "      <th>year</th>\n",
       "      <th>population</th>\n",
       "    </tr>\n",
       "  </thead>\n",
       "  <tbody>\n",
       "    <tr>\n",
       "      <th>9077</th>\n",
       "      <td>'s-Hertogenbosch</td>\n",
       "      <td>1995</td>\n",
       "      <td>199127.0</td>\n",
       "    </tr>\n",
       "    <tr>\n",
       "      <th>5483</th>\n",
       "      <td>'s-Hertogenbosch</td>\n",
       "      <td>2004</td>\n",
       "      <td>133511.0</td>\n",
       "    </tr>\n",
       "    <tr>\n",
       "      <th>4822</th>\n",
       "      <td>'s-Hertogenbosch</td>\n",
       "      <td>2010</td>\n",
       "      <td>139754.0</td>\n",
       "    </tr>\n",
       "    <tr>\n",
       "      <th>3443</th>\n",
       "      <td>'s-Hertogenbosch</td>\n",
       "      <td>2014</td>\n",
       "      <td>143822.0</td>\n",
       "    </tr>\n",
       "    <tr>\n",
       "      <th>1958</th>\n",
       "      <td>A Coruña</td>\n",
       "      <td>1991</td>\n",
       "      <td>243134.0</td>\n",
       "    </tr>\n",
       "    <tr>\n",
       "      <th>6963</th>\n",
       "      <td>A Coruña</td>\n",
       "      <td>1994</td>\n",
       "      <td>255087.0</td>\n",
       "    </tr>\n",
       "    <tr>\n",
       "      <th>3878</th>\n",
       "      <td>A Coruña</td>\n",
       "      <td>2001</td>\n",
       "      <td>236379.0</td>\n",
       "    </tr>\n",
       "    <tr>\n",
       "      <th>1873</th>\n",
       "      <td>A Coruña</td>\n",
       "      <td>2011</td>\n",
       "      <td>245053.0</td>\n",
       "    </tr>\n",
       "    <tr>\n",
       "      <th>5718</th>\n",
       "      <td>Aachen</td>\n",
       "      <td>1987</td>\n",
       "      <td>229740.0</td>\n",
       "    </tr>\n",
       "    <tr>\n",
       "      <th>4456</th>\n",
       "      <td>Aachen</td>\n",
       "      <td>2011</td>\n",
       "      <td>236420.0</td>\n",
       "    </tr>\n",
       "  </tbody>\n",
       "</table>\n",
       "</div>"
      ],
      "text/plain": [
       "                  city  year  population\n",
       "9077  's-Hertogenbosch  1995    199127.0\n",
       "5483  's-Hertogenbosch  2004    133511.0\n",
       "4822  's-Hertogenbosch  2010    139754.0\n",
       "3443  's-Hertogenbosch  2014    143822.0\n",
       "1958          A Coruña  1991    243134.0\n",
       "6963          A Coruña  1994    255087.0\n",
       "3878          A Coruña  2001    236379.0\n",
       "1873          A Coruña  2011    245053.0\n",
       "5718            Aachen  1987    229740.0\n",
       "4456            Aachen  2011    236420.0"
      ]
     },
     "execution_count": 8,
     "metadata": {},
     "output_type": "execute_result"
    }
   ],
   "source": [
    "# sort dataframe by city, and years in descending order\n",
    "df = df.sort_values(['city', 'year'])\n",
    "df.head(10)"
   ]
  },
  {
   "cell_type": "code",
   "execution_count": 9,
   "metadata": {
    "collapsed": false
   },
   "outputs": [
    {
     "name": "stdout",
     "output_type": "stream",
     "text": [
      "Top 10 Cities by Population\n"
     ]
    },
    {
     "data": {
      "text/plain": [
       "city\n",
       "Shanghai     22315474.0\n",
       "Istanbul     13710512.0\n",
       "Mumbai       12442373.0\n",
       "Moskva       11979529.0\n",
       "Beijing      11716620.0\n",
       "São Paulo    11152344.0\n",
       "Tianjin      11090314.0\n",
       "Guangzhou    11071424.0\n",
       "Delhi        11034555.0\n",
       "Shenzhen     10358381.0\n",
       "Name: population, dtype: float64"
      ]
     },
     "execution_count": 9,
     "metadata": {},
     "output_type": "execute_result"
    }
   ],
   "source": [
    "# group by city and take the last record, which will be the latest year \n",
    "df = df.groupby('city')['population'].last()\n",
    "print \"Top 10 Cities by Population\"\n",
    "df.sort_values(ascending = False).head(10)"
   ]
  },
  {
   "cell_type": "markdown",
   "metadata": {},
   "source": [
    "*****\n",
    "### Exercise 3: Find 10 ethnic groups with the largest overall populations (sum of latest estimates over all countries)"
   ]
  },
  {
   "cell_type": "markdown",
   "metadata": {},
   "source": [
    "#### Read in population and ethnic group data from xml into python dictionaries"
   ]
  },
  {
   "cell_type": "code",
   "execution_count": 10,
   "metadata": {
    "collapsed": false
   },
   "outputs": [],
   "source": [
    "# create a dictionary of population by (city, year ) key \n",
    "population_dict = dict() \n",
    "ethnicgroup_dict = dict()\n",
    "\n",
    "# iterate over all countries in the XML tree\n",
    "for element in document.getiterator('country'):\n",
    "    country = element.find(\"name\").text\n",
    "    # get population records \n",
    "    for subelement in element.iterfind('population'):\n",
    "        year = int(subelement.get(\"year\"))\n",
    "        population = float(subelement.text)\n",
    "        population_dict[(country,year)] = population\n",
    "    # get ethnic groups and percentages\n",
    "    for subelement in element.iterfind('ethnicgroup'):\n",
    "        group = subelement.text\n",
    "        percentage = float(subelement.get('percentage'))\n",
    "        ethnicgroup_dict[(country,group)] = percentage\n",
    "    "
   ]
  },
  {
   "cell_type": "markdown",
   "metadata": {},
   "source": [
    "#### Create a dataframe with the latest estimates of country popupations"
   ]
  },
  {
   "cell_type": "code",
   "execution_count": 11,
   "metadata": {
    "collapsed": false
   },
   "outputs": [
    {
     "data": {
      "text/html": [
       "<div>\n",
       "<table border=\"1\" class=\"dataframe\">\n",
       "  <thead>\n",
       "    <tr style=\"text-align: right;\">\n",
       "      <th></th>\n",
       "      <th>country</th>\n",
       "      <th>year</th>\n",
       "      <th>population</th>\n",
       "    </tr>\n",
       "  </thead>\n",
       "  <tbody>\n",
       "    <tr>\n",
       "      <th>2042</th>\n",
       "      <td>Afghanistan</td>\n",
       "      <td>1950</td>\n",
       "      <td>7450738.0</td>\n",
       "    </tr>\n",
       "    <tr>\n",
       "      <th>1566</th>\n",
       "      <td>Afghanistan</td>\n",
       "      <td>1960</td>\n",
       "      <td>8774440.0</td>\n",
       "    </tr>\n",
       "    <tr>\n",
       "      <th>1953</th>\n",
       "      <td>Afghanistan</td>\n",
       "      <td>1970</td>\n",
       "      <td>11015621.0</td>\n",
       "    </tr>\n",
       "    <tr>\n",
       "      <th>1301</th>\n",
       "      <td>Afghanistan</td>\n",
       "      <td>1979</td>\n",
       "      <td>13051358.0</td>\n",
       "    </tr>\n",
       "    <tr>\n",
       "      <th>728</th>\n",
       "      <td>Afghanistan</td>\n",
       "      <td>2006</td>\n",
       "      <td>22575900.0</td>\n",
       "    </tr>\n",
       "  </tbody>\n",
       "</table>\n",
       "</div>"
      ],
      "text/plain": [
       "          country  year  population\n",
       "2042  Afghanistan  1950   7450738.0\n",
       "1566  Afghanistan  1960   8774440.0\n",
       "1953  Afghanistan  1970  11015621.0\n",
       "1301  Afghanistan  1979  13051358.0\n",
       "728   Afghanistan  2006  22575900.0"
      ]
     },
     "execution_count": 11,
     "metadata": {},
     "output_type": "execute_result"
    }
   ],
   "source": [
    "# create a dataframe with population in the country by year\n",
    "c = pd.DataFrame.from_dict(population_dict, orient = 'index')\n",
    "c.index = pd.MultiIndex.from_tuples(c.index)\n",
    "c = c.reset_index()\n",
    "c.columns = ['country', 'year', 'population']\n",
    "c = c.sort_values(['country', 'year'])\n",
    "c.head()"
   ]
  },
  {
   "cell_type": "code",
   "execution_count": 12,
   "metadata": {
    "collapsed": false
   },
   "outputs": [
    {
     "data": {
      "text/html": [
       "<div>\n",
       "<table border=\"1\" class=\"dataframe\">\n",
       "  <thead>\n",
       "    <tr style=\"text-align: right;\">\n",
       "      <th></th>\n",
       "      <th>country</th>\n",
       "      <th>year</th>\n",
       "    </tr>\n",
       "  </thead>\n",
       "  <tbody>\n",
       "    <tr>\n",
       "      <th>0</th>\n",
       "      <td>Afghanistan</td>\n",
       "      <td>2013</td>\n",
       "    </tr>\n",
       "    <tr>\n",
       "      <th>1</th>\n",
       "      <td>Albania</td>\n",
       "      <td>2011</td>\n",
       "    </tr>\n",
       "    <tr>\n",
       "      <th>2</th>\n",
       "      <td>Algeria</td>\n",
       "      <td>2010</td>\n",
       "    </tr>\n",
       "    <tr>\n",
       "      <th>3</th>\n",
       "      <td>American Samoa</td>\n",
       "      <td>2010</td>\n",
       "    </tr>\n",
       "    <tr>\n",
       "      <th>4</th>\n",
       "      <td>Andorra</td>\n",
       "      <td>2011</td>\n",
       "    </tr>\n",
       "  </tbody>\n",
       "</table>\n",
       "</div>"
      ],
      "text/plain": [
       "          country  year\n",
       "0     Afghanistan  2013\n",
       "1         Albania  2011\n",
       "2         Algeria  2010\n",
       "3  American Samoa  2010\n",
       "4         Andorra  2011"
      ]
     },
     "execution_count": 12,
     "metadata": {},
     "output_type": "execute_result"
    }
   ],
   "source": [
    "# get the latest year for when population was recorded\n",
    "latest_year = c.groupby('country')['year'].max().to_frame()\n",
    "latest_year = latest_year.reset_index()\n",
    "latest_year.head()"
   ]
  },
  {
   "cell_type": "code",
   "execution_count": 13,
   "metadata": {
    "collapsed": false
   },
   "outputs": [
    {
     "data": {
      "text/html": [
       "<div>\n",
       "<table border=\"1\" class=\"dataframe\">\n",
       "  <thead>\n",
       "    <tr style=\"text-align: right;\">\n",
       "      <th></th>\n",
       "      <th>country</th>\n",
       "      <th>population</th>\n",
       "    </tr>\n",
       "  </thead>\n",
       "  <tbody>\n",
       "    <tr>\n",
       "      <th>0</th>\n",
       "      <td>Afghanistan</td>\n",
       "      <td>26023100.0</td>\n",
       "    </tr>\n",
       "    <tr>\n",
       "      <th>1</th>\n",
       "      <td>Albania</td>\n",
       "      <td>2800138.0</td>\n",
       "    </tr>\n",
       "    <tr>\n",
       "      <th>2</th>\n",
       "      <td>Algeria</td>\n",
       "      <td>37062820.0</td>\n",
       "    </tr>\n",
       "    <tr>\n",
       "      <th>3</th>\n",
       "      <td>American Samoa</td>\n",
       "      <td>55519.0</td>\n",
       "    </tr>\n",
       "    <tr>\n",
       "      <th>4</th>\n",
       "      <td>Andorra</td>\n",
       "      <td>78115.0</td>\n",
       "    </tr>\n",
       "  </tbody>\n",
       "</table>\n",
       "</div>"
      ],
      "text/plain": [
       "          country  population\n",
       "0     Afghanistan  26023100.0\n",
       "1         Albania   2800138.0\n",
       "2         Algeria  37062820.0\n",
       "3  American Samoa     55519.0\n",
       "4         Andorra     78115.0"
      ]
     },
     "execution_count": 13,
     "metadata": {},
     "output_type": "execute_result"
    }
   ],
   "source": [
    "# merge with country populations and get the latest population\n",
    "c = pd.merge(latest_year,c, on =['country','year'])\n",
    "c = c.drop('year', axis = 1)\n",
    "c.head()"
   ]
  },
  {
   "cell_type": "markdown",
   "metadata": {},
   "source": [
    "\n",
    "#### Create a dataframe with percentage of ethnic groups in each country "
   ]
  },
  {
   "cell_type": "code",
   "execution_count": 14,
   "metadata": {
    "collapsed": false
   },
   "outputs": [
    {
     "data": {
      "text/html": [
       "<div>\n",
       "<table border=\"1\" class=\"dataframe\">\n",
       "  <thead>\n",
       "    <tr style=\"text-align: right;\">\n",
       "      <th></th>\n",
       "      <th>country</th>\n",
       "      <th>group</th>\n",
       "      <th>percentage</th>\n",
       "    </tr>\n",
       "  </thead>\n",
       "  <tbody>\n",
       "    <tr>\n",
       "      <th>0</th>\n",
       "      <td>Myanmar</td>\n",
       "      <td>Karen</td>\n",
       "      <td>7.0</td>\n",
       "    </tr>\n",
       "    <tr>\n",
       "      <th>1</th>\n",
       "      <td>Serbia</td>\n",
       "      <td>Croat</td>\n",
       "      <td>1.1</td>\n",
       "    </tr>\n",
       "    <tr>\n",
       "      <th>2</th>\n",
       "      <td>Czech Republic</td>\n",
       "      <td>Slovak</td>\n",
       "      <td>1.9</td>\n",
       "    </tr>\n",
       "    <tr>\n",
       "      <th>3</th>\n",
       "      <td>Cote dIvoire</td>\n",
       "      <td>Bete</td>\n",
       "      <td>18.0</td>\n",
       "    </tr>\n",
       "    <tr>\n",
       "      <th>4</th>\n",
       "      <td>Ecuador</td>\n",
       "      <td>Amerindian</td>\n",
       "      <td>25.0</td>\n",
       "    </tr>\n",
       "  </tbody>\n",
       "</table>\n",
       "</div>"
      ],
      "text/plain": [
       "          country       group  percentage\n",
       "0         Myanmar       Karen         7.0\n",
       "1          Serbia       Croat         1.1\n",
       "2  Czech Republic      Slovak         1.9\n",
       "3    Cote dIvoire        Bete        18.0\n",
       "4         Ecuador  Amerindian        25.0"
      ]
     },
     "execution_count": 14,
     "metadata": {},
     "output_type": "execute_result"
    }
   ],
   "source": [
    "e = pd.DataFrame.from_dict(ethnicgroup_dict, orient = 'index')\n",
    "e.index = pd.MultiIndex.from_tuples(e.index)\n",
    "e = e.reset_index()\n",
    "e.columns = ['country', 'group', 'percentage']\n",
    "e.head()"
   ]
  },
  {
   "cell_type": "markdown",
   "metadata": {},
   "source": [
    "#### Merge data to get population by ethnic group"
   ]
  },
  {
   "cell_type": "code",
   "execution_count": 15,
   "metadata": {
    "collapsed": false
   },
   "outputs": [
    {
     "data": {
      "text/html": [
       "<div>\n",
       "<table border=\"1\" class=\"dataframe\">\n",
       "  <thead>\n",
       "    <tr style=\"text-align: right;\">\n",
       "      <th></th>\n",
       "      <th>country</th>\n",
       "      <th>group</th>\n",
       "      <th>percentage</th>\n",
       "      <th>country_population</th>\n",
       "    </tr>\n",
       "  </thead>\n",
       "  <tbody>\n",
       "    <tr>\n",
       "      <th>0</th>\n",
       "      <td>Myanmar</td>\n",
       "      <td>Karen</td>\n",
       "      <td>7.0</td>\n",
       "      <td>51419420.0</td>\n",
       "    </tr>\n",
       "    <tr>\n",
       "      <th>1</th>\n",
       "      <td>Myanmar</td>\n",
       "      <td>Mon</td>\n",
       "      <td>2.0</td>\n",
       "      <td>51419420.0</td>\n",
       "    </tr>\n",
       "    <tr>\n",
       "      <th>2</th>\n",
       "      <td>Myanmar</td>\n",
       "      <td>Chinese</td>\n",
       "      <td>3.0</td>\n",
       "      <td>51419420.0</td>\n",
       "    </tr>\n",
       "    <tr>\n",
       "      <th>3</th>\n",
       "      <td>Myanmar</td>\n",
       "      <td>Shan</td>\n",
       "      <td>9.0</td>\n",
       "      <td>51419420.0</td>\n",
       "    </tr>\n",
       "    <tr>\n",
       "      <th>4</th>\n",
       "      <td>Myanmar</td>\n",
       "      <td>Burman</td>\n",
       "      <td>68.0</td>\n",
       "      <td>51419420.0</td>\n",
       "    </tr>\n",
       "  </tbody>\n",
       "</table>\n",
       "</div>"
      ],
      "text/plain": [
       "   country    group  percentage  country_population\n",
       "0  Myanmar    Karen         7.0          51419420.0\n",
       "1  Myanmar      Mon         2.0          51419420.0\n",
       "2  Myanmar  Chinese         3.0          51419420.0\n",
       "3  Myanmar     Shan         9.0          51419420.0\n",
       "4  Myanmar   Burman        68.0          51419420.0"
      ]
     },
     "execution_count": 15,
     "metadata": {},
     "output_type": "execute_result"
    }
   ],
   "source": [
    "# combine ethnic group data with country population\n",
    "df = pd.merge(e,c, on=['country'] )\n",
    "df = df.rename(columns = {'population':'country_population'})\n",
    "df.head()"
   ]
  },
  {
   "cell_type": "code",
   "execution_count": 16,
   "metadata": {
    "collapsed": false
   },
   "outputs": [
    {
     "data": {
      "text/html": [
       "<div>\n",
       "<table border=\"1\" class=\"dataframe\">\n",
       "  <thead>\n",
       "    <tr style=\"text-align: right;\">\n",
       "      <th></th>\n",
       "      <th>country</th>\n",
       "      <th>group</th>\n",
       "      <th>percentage</th>\n",
       "      <th>country_population</th>\n",
       "      <th>population</th>\n",
       "    </tr>\n",
       "  </thead>\n",
       "  <tbody>\n",
       "    <tr>\n",
       "      <th>0</th>\n",
       "      <td>Myanmar</td>\n",
       "      <td>Karen</td>\n",
       "      <td>7.0</td>\n",
       "      <td>51419420.0</td>\n",
       "      <td>3599359.4</td>\n",
       "    </tr>\n",
       "    <tr>\n",
       "      <th>1</th>\n",
       "      <td>Myanmar</td>\n",
       "      <td>Mon</td>\n",
       "      <td>2.0</td>\n",
       "      <td>51419420.0</td>\n",
       "      <td>1028388.4</td>\n",
       "    </tr>\n",
       "    <tr>\n",
       "      <th>2</th>\n",
       "      <td>Myanmar</td>\n",
       "      <td>Chinese</td>\n",
       "      <td>3.0</td>\n",
       "      <td>51419420.0</td>\n",
       "      <td>1542582.6</td>\n",
       "    </tr>\n",
       "    <tr>\n",
       "      <th>3</th>\n",
       "      <td>Myanmar</td>\n",
       "      <td>Shan</td>\n",
       "      <td>9.0</td>\n",
       "      <td>51419420.0</td>\n",
       "      <td>4627747.8</td>\n",
       "    </tr>\n",
       "    <tr>\n",
       "      <th>4</th>\n",
       "      <td>Myanmar</td>\n",
       "      <td>Burman</td>\n",
       "      <td>68.0</td>\n",
       "      <td>51419420.0</td>\n",
       "      <td>34965205.6</td>\n",
       "    </tr>\n",
       "  </tbody>\n",
       "</table>\n",
       "</div>"
      ],
      "text/plain": [
       "   country    group  percentage  country_population  population\n",
       "0  Myanmar    Karen         7.0          51419420.0   3599359.4\n",
       "1  Myanmar      Mon         2.0          51419420.0   1028388.4\n",
       "2  Myanmar  Chinese         3.0          51419420.0   1542582.6\n",
       "3  Myanmar     Shan         9.0          51419420.0   4627747.8\n",
       "4  Myanmar   Burman        68.0          51419420.0  34965205.6"
      ]
     },
     "execution_count": 16,
     "metadata": {},
     "output_type": "execute_result"
    }
   ],
   "source": [
    "# calculate population by ethnicity group\n",
    "df['population'] = df['country_population']*df['percentage']/100\n",
    "df.head()"
   ]
  },
  {
   "cell_type": "code",
   "execution_count": 17,
   "metadata": {
    "collapsed": false
   },
   "outputs": [
    {
     "name": "stdout",
     "output_type": "stream",
     "text": [
      "Top 10 Ethnic Groups by Population\n"
     ]
    },
    {
     "data": {
      "text/plain": [
       "group\n",
       "Han Chinese    1.245059e+09\n",
       "Indo-Aryan     8.718156e+08\n",
       "European       4.948722e+08\n",
       "African        3.183251e+08\n",
       "Dravidian      3.027137e+08\n",
       "Mestizo        1.577344e+08\n",
       "Bengali        1.467769e+08\n",
       "Russian        1.318570e+08\n",
       "Japanese       1.265342e+08\n",
       "Malay          1.219936e+08\n",
       "Name: population, dtype: float64"
      ]
     },
     "execution_count": 17,
     "metadata": {},
     "output_type": "execute_result"
    }
   ],
   "source": [
    "# aggregate population for each group\n",
    "res = df.groupby('group')['population'].sum()\n",
    "print \"Top 10 Ethnic Groups by Population\"\n",
    "res.sort_values(ascending= False).head(10)"
   ]
  },
  {
   "cell_type": "markdown",
   "metadata": {},
   "source": [
    "*****\n",
    "### Excercise 4 a : Find name and country of a) longest river, b) largest lake and c) airport at highest elevation"
   ]
  },
  {
   "cell_type": "code",
   "execution_count": 18,
   "metadata": {
    "collapsed": false
   },
   "outputs": [],
   "source": [
    "# rivers\n",
    "data_dict = dict()\n",
    "\n",
    "# iterate through al rivers and record the names, countries and length in the dictionary\n",
    "for element in document.iterfind('river'):\n",
    "    name =  element.find('name').text\n",
    "    subelement =  element.find('length')\n",
    "    if subelement is None:\n",
    "        length = np.NaN\n",
    "    else:\n",
    "        length = float(subelement.text)\n",
    "    country =  element.get('country')\n",
    "    data_dict[name]= [country, length]"
   ]
  },
  {
   "cell_type": "code",
   "execution_count": 19,
   "metadata": {
    "collapsed": false
   },
   "outputs": [
    {
     "data": {
      "text/html": [
       "<div>\n",
       "<table border=\"1\" class=\"dataframe\">\n",
       "  <thead>\n",
       "    <tr style=\"text-align: right;\">\n",
       "      <th></th>\n",
       "      <th>country</th>\n",
       "      <th>length</th>\n",
       "    </tr>\n",
       "  </thead>\n",
       "  <tbody>\n",
       "    <tr>\n",
       "      <th>Karun</th>\n",
       "      <td>IR</td>\n",
       "      <td>950.0</td>\n",
       "    </tr>\n",
       "    <tr>\n",
       "      <th>Waag</th>\n",
       "      <td>SK</td>\n",
       "      <td>403.0</td>\n",
       "    </tr>\n",
       "    <tr>\n",
       "      <th>Mosel</th>\n",
       "      <td>D L F</td>\n",
       "      <td>544.0</td>\n",
       "    </tr>\n",
       "    <tr>\n",
       "      <th>Oesterdalaelv</th>\n",
       "      <td>S</td>\n",
       "      <td>241.0</td>\n",
       "    </tr>\n",
       "    <tr>\n",
       "      <th>Theiss</th>\n",
       "      <td>H UA SRB</td>\n",
       "      <td>1308.0</td>\n",
       "    </tr>\n",
       "  </tbody>\n",
       "</table>\n",
       "</div>"
      ],
      "text/plain": [
       "                country  length\n",
       "Karun                IR   950.0\n",
       "Waag                 SK   403.0\n",
       "Mosel             D L F   544.0\n",
       "Oesterdalaelv         S   241.0\n",
       "Theiss         H UA SRB  1308.0"
      ]
     },
     "execution_count": 19,
     "metadata": {},
     "output_type": "execute_result"
    }
   ],
   "source": [
    "#create a dataframe\n",
    "rivers = pd.DataFrame.from_dict(data_dict,orient = 'index')\n",
    "rivers.columns = ['country', 'length']\n",
    "rivers.head()"
   ]
  },
  {
   "cell_type": "code",
   "execution_count": 20,
   "metadata": {
    "collapsed": false
   },
   "outputs": [
    {
     "name": "stdout",
     "output_type": "stream",
     "text": [
      "Longest river\n"
     ]
    },
    {
     "data": {
      "text/html": [
       "<div>\n",
       "<table border=\"1\" class=\"dataframe\">\n",
       "  <thead>\n",
       "    <tr style=\"text-align: right;\">\n",
       "      <th></th>\n",
       "      <th>country</th>\n",
       "      <th>length</th>\n",
       "    </tr>\n",
       "  </thead>\n",
       "  <tbody>\n",
       "    <tr>\n",
       "      <th>Amazonas</th>\n",
       "      <td>CO BR PE</td>\n",
       "      <td>6448.0</td>\n",
       "    </tr>\n",
       "  </tbody>\n",
       "</table>\n",
       "</div>"
      ],
      "text/plain": [
       "           country  length\n",
       "Amazonas  CO BR PE  6448.0"
      ]
     },
     "execution_count": 20,
     "metadata": {},
     "output_type": "execute_result"
    }
   ],
   "source": [
    "# get the longest river \n",
    "print 'Longest river'\n",
    "rivers.sort_values('length', ascending = False).head(1)"
   ]
  },
  {
   "cell_type": "markdown",
   "metadata": {},
   "source": [
    "*****\n",
    "### Excercise 4b: Find name and country of  largest lake"
   ]
  },
  {
   "cell_type": "code",
   "execution_count": 21,
   "metadata": {
    "collapsed": true
   },
   "outputs": [],
   "source": [
    "# lakes\n",
    "data_dict = dict()\n",
    "\n",
    "# iterate through al rivers and record the names, countries and length in the dictionary\n",
    "for element in document.iterfind('lake'):\n",
    "    name =  element.find('name').text\n",
    "    subelement =  element.find('area')\n",
    "    if subelement is None:\n",
    "        area = np.NaN\n",
    "    else:\n",
    "        area = float(subelement.text)\n",
    "    country =  element.get('country')\n",
    "    data_dict[name]= [country, area]"
   ]
  },
  {
   "cell_type": "code",
   "execution_count": 22,
   "metadata": {
    "collapsed": false
   },
   "outputs": [
    {
     "data": {
      "text/html": [
       "<div>\n",
       "<table border=\"1\" class=\"dataframe\">\n",
       "  <thead>\n",
       "    <tr style=\"text-align: right;\">\n",
       "      <th></th>\n",
       "      <th>country</th>\n",
       "      <th>area</th>\n",
       "    </tr>\n",
       "  </thead>\n",
       "  <tbody>\n",
       "    <tr>\n",
       "      <th>Vierwaldstattersee</th>\n",
       "      <td>CH</td>\n",
       "      <td>113.7</td>\n",
       "    </tr>\n",
       "    <tr>\n",
       "      <th>Ammersee</th>\n",
       "      <td>D</td>\n",
       "      <td>46.6</td>\n",
       "    </tr>\n",
       "    <tr>\n",
       "      <th>Lake Manicouagan</th>\n",
       "      <td>CDN</td>\n",
       "      <td>1942.0</td>\n",
       "    </tr>\n",
       "    <tr>\n",
       "      <th>Lake Erie</th>\n",
       "      <td>CDN USA</td>\n",
       "      <td>25745.0</td>\n",
       "    </tr>\n",
       "    <tr>\n",
       "      <th>Pyramid Lake</th>\n",
       "      <td>USA</td>\n",
       "      <td>487.0</td>\n",
       "    </tr>\n",
       "  </tbody>\n",
       "</table>\n",
       "</div>"
      ],
      "text/plain": [
       "                    country     area\n",
       "Vierwaldstattersee       CH    113.7\n",
       "Ammersee                  D     46.6\n",
       "Lake Manicouagan        CDN   1942.0\n",
       "Lake Erie           CDN USA  25745.0\n",
       "Pyramid Lake            USA    487.0"
      ]
     },
     "execution_count": 22,
     "metadata": {},
     "output_type": "execute_result"
    }
   ],
   "source": [
    "# create a dataframe with lakes countries and areas\n",
    "lakes = pd.DataFrame.from_dict(data_dict,orient = 'index')\n",
    "lakes.columns = ['country', 'area']\n",
    "lakes.head()"
   ]
  },
  {
   "cell_type": "code",
   "execution_count": 23,
   "metadata": {
    "collapsed": false
   },
   "outputs": [
    {
     "name": "stdout",
     "output_type": "stream",
     "text": [
      "Largest Lake\n"
     ]
    },
    {
     "data": {
      "text/html": [
       "<div>\n",
       "<table border=\"1\" class=\"dataframe\">\n",
       "  <thead>\n",
       "    <tr style=\"text-align: right;\">\n",
       "      <th></th>\n",
       "      <th>country</th>\n",
       "      <th>area</th>\n",
       "    </tr>\n",
       "  </thead>\n",
       "  <tbody>\n",
       "    <tr>\n",
       "      <th>Caspian Sea</th>\n",
       "      <td>R AZ KAZ IR TM</td>\n",
       "      <td>386400.0</td>\n",
       "    </tr>\n",
       "  </tbody>\n",
       "</table>\n",
       "</div>"
      ],
      "text/plain": [
       "                    country      area\n",
       "Caspian Sea  R AZ KAZ IR TM  386400.0"
      ]
     },
     "execution_count": 23,
     "metadata": {},
     "output_type": "execute_result"
    }
   ],
   "source": [
    "# get the largest lake \n",
    "print 'Largest Lake'\n",
    "lakes.sort_values('area', ascending = False).head(1)"
   ]
  },
  {
   "cell_type": "code",
   "execution_count": null,
   "metadata": {
    "collapsed": true
   },
   "outputs": [],
   "source": []
  },
  {
   "cell_type": "markdown",
   "metadata": {},
   "source": [
    "*****\n",
    "### Excercise 4c: Find name and country of  airport at highest elevation"
   ]
  },
  {
   "cell_type": "code",
   "execution_count": 24,
   "metadata": {
    "collapsed": false
   },
   "outputs": [],
   "source": [
    "# airports\n",
    "data_dict = dict()\n",
    "\n",
    "# iterate through al rivers and record the names, countries and length in the dictionary\n",
    "for element in document.iterfind('airport'):\n",
    "    name =  element.find('name').text\n",
    "    elevation  =  element.find('elevation').text\n",
    "    country =  element.get('country')\n",
    "    data_dict[name]= [country, elevation]"
   ]
  },
  {
   "cell_type": "code",
   "execution_count": 25,
   "metadata": {
    "collapsed": false
   },
   "outputs": [
    {
     "data": {
      "text/html": [
       "<div>\n",
       "<table border=\"1\" class=\"dataframe\">\n",
       "  <thead>\n",
       "    <tr style=\"text-align: right;\">\n",
       "      <th></th>\n",
       "      <th>country</th>\n",
       "      <th>elevation</th>\n",
       "    </tr>\n",
       "  </thead>\n",
       "  <tbody>\n",
       "    <tr>\n",
       "      <th>Pierre Elliott Trudeau Intl</th>\n",
       "      <td>CDN</td>\n",
       "      <td>36</td>\n",
       "    </tr>\n",
       "    <tr>\n",
       "      <th>Rovaniemi</th>\n",
       "      <td>SF</td>\n",
       "      <td>196</td>\n",
       "    </tr>\n",
       "    <tr>\n",
       "      <th>Jerez</th>\n",
       "      <td>E</td>\n",
       "      <td>28</td>\n",
       "    </tr>\n",
       "    <tr>\n",
       "      <th>Nampula</th>\n",
       "      <td>MOC</td>\n",
       "      <td>440</td>\n",
       "    </tr>\n",
       "    <tr>\n",
       "      <th>Yibin</th>\n",
       "      <td>CN</td>\n",
       "      <td>305</td>\n",
       "    </tr>\n",
       "  </tbody>\n",
       "</table>\n",
       "</div>"
      ],
      "text/plain": [
       "                            country  elevation\n",
       "Pierre Elliott Trudeau Intl     CDN         36\n",
       "Rovaniemi                        SF        196\n",
       "Jerez                             E         28\n",
       "Nampula                         MOC        440\n",
       "Yibin                            CN        305"
      ]
     },
     "execution_count": 25,
     "metadata": {},
     "output_type": "execute_result"
    }
   ],
   "source": [
    "# create a dataframe with airoports height\n",
    "airports = pd.DataFrame.from_dict(data_dict,orient = 'index')\n",
    "airports.columns = ['country', 'elevation']\n",
    "\n",
    "# remove nulls from elevation column and convert it to numeric\n",
    "airports = airports.dropna()\n",
    "airports['elevation'] = pd.to_numeric(airports['elevation'])\n",
    "\n",
    "airports.head()"
   ]
  },
  {
   "cell_type": "code",
   "execution_count": 26,
   "metadata": {
    "collapsed": false
   },
   "outputs": [
    {
     "name": "stdout",
     "output_type": "stream",
     "text": [
      "Highest airport\n"
     ]
    },
    {
     "data": {
      "text/html": [
       "<div>\n",
       "<table border=\"1\" class=\"dataframe\">\n",
       "  <thead>\n",
       "    <tr style=\"text-align: right;\">\n",
       "      <th></th>\n",
       "      <th>country</th>\n",
       "      <th>elevation</th>\n",
       "    </tr>\n",
       "  </thead>\n",
       "  <tbody>\n",
       "    <tr>\n",
       "      <th>El Alto Intl</th>\n",
       "      <td>BOL</td>\n",
       "      <td>4063</td>\n",
       "    </tr>\n",
       "  </tbody>\n",
       "</table>\n",
       "</div>"
      ],
      "text/plain": [
       "             country  elevation\n",
       "El Alto Intl     BOL       4063"
      ]
     },
     "execution_count": 26,
     "metadata": {},
     "output_type": "execute_result"
    }
   ],
   "source": [
    "# get the highest airport \n",
    "print \"Highest airport\" \n",
    "airports.sort_values('elevation', ascending = False).head(1)"
   ]
  },
  {
   "cell_type": "code",
   "execution_count": null,
   "metadata": {
    "collapsed": true
   },
   "outputs": [],
   "source": []
  }
 ],
 "metadata": {
  "anaconda-cloud": {},
  "kernelspec": {
   "display_name": "Python [default]",
   "language": "python",
   "name": "python2"
  },
  "language_info": {
   "codemirror_mode": {
    "name": "ipython",
    "version": 2
   },
   "file_extension": ".py",
   "mimetype": "text/x-python",
   "name": "python",
   "nbconvert_exporter": "python",
   "pygments_lexer": "ipython2",
   "version": "2.7.12"
  }
 },
 "nbformat": 4,
 "nbformat_minor": 0
}
