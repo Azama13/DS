{
 "cells": [
  {
   "cell_type": "markdown",
   "metadata": {},
   "source": [
    "# Logistic Regressions And Decision Trees "
   ]
  },
  {
   "cell_type": "markdown",
   "metadata": {},
   "source": [
    "#### Imports "
   ]
  },
  {
   "cell_type": "code",
   "execution_count": 1,
   "metadata": {
    "collapsed": true
   },
   "outputs": [],
   "source": [
    "%matplotlib inline\n",
    "import matplotlib\n",
    "import matplotlib.pyplot as plt\n",
    "import numpy as np\n",
    "import pandas as pd\n",
    "import seaborn as sns"
   ]
  },
  {
   "cell_type": "code",
   "execution_count": 2,
   "metadata": {
    "collapsed": true
   },
   "outputs": [],
   "source": [
    "from sklearn.model_selection import train_test_split\n",
    "from sklearn.model_selection import GridSearchCV\n",
    "from sklearn.linear_model import LogisticRegression\n",
    "from sklearn.linear_model import LogisticRegressionCV\n",
    "from sklearn import metrics\n",
    "from sklearn import tree"
   ]
  },
  {
   "cell_type": "code",
   "execution_count": 3,
   "metadata": {
    "collapsed": false
   },
   "outputs": [
    {
     "data": {
      "text/html": [
       "<style>body {\n",
       "    margin: 0;\n",
       "    font-family: Helvetica;\n",
       "}\n",
       "table.dataframe {\n",
       "    border-collapse: collapse;\n",
       "    border: none;\n",
       "}\n",
       "table.dataframe tr {\n",
       "    border: none;\n",
       "}\n",
       "table.dataframe td, table.dataframe th {\n",
       "    margin: 0;\n",
       "    border: 1px solid white;\n",
       "    padding-left: 0.25em;\n",
       "    padding-right: 0.25em;\n",
       "}\n",
       "table.dataframe th:not(:empty) {\n",
       "    background-color: #fec;\n",
       "    text-align: left;\n",
       "    font-weight: normal;\n",
       "    font-size: 10pt;\n",
       "}\n",
       "table.dataframe tr:nth-child(2) th:empty {\n",
       "    border-left: none;\n",
       "    border-right: 1px dashed #888;\n",
       "}\n",
       "table.dataframe td {\n",
       "    border: 2px solid #ccf;\n",
       "    background-color: #f4f4ff;\n",
       "    font-size: 10pt;\n",
       "}\n",
       "h3 {\n",
       "    color: white;\n",
       "    background-color: black;\n",
       "    padding: 0.5em;\n",
       "}\n",
       "</style>"
      ],
      "text/plain": [
       "<IPython.core.display.HTML object>"
      ]
     },
     "execution_count": 3,
     "metadata": {},
     "output_type": "execute_result"
    }
   ],
   "source": [
    "from IPython.core.display import HTML\n",
    "css = open('style-table.css').read() + open('style-notebook.css').read()\n",
    "HTML('<style>{}</style>'.format(css))"
   ]
  },
  {
   "cell_type": "markdown",
   "metadata": {},
   "source": [
    "#### Helper functions for checking model performance"
   ]
  },
  {
   "cell_type": "code",
   "execution_count": 4,
   "metadata": {
    "collapsed": true
   },
   "outputs": [],
   "source": [
    "# returns labelled model coefficient \n",
    "def model_coefficients(clf, features, clf_name = 'clf'):\n",
    "    model_coeff = pd.DataFrame(clf.coef_,columns=features, index = [clf_name])\n",
    "    model_coeff['intercept'] = clf.intercept_\n",
    "    return model_coeff"
   ]
  },
  {
   "cell_type": "code",
   "execution_count": 5,
   "metadata": {
    "collapsed": true
   },
   "outputs": [],
   "source": [
    "def model_metrics(clf, X_train, y_train, X_test, y_test, clf_name = 'clf'):\n",
    "    result = pd.DataFrame({'train_accuracy': metrics.accuracy_score(y_train, clf.predict(X_train)), \n",
    "                           'train_precision': metrics.precision_score(y_train, clf.predict(X_train)), \n",
    "                           'train_recall': metrics.recall_score(y_train, clf.predict(X_train)),\n",
    "                           'train_f1': metrics.f1_score(y_train, clf.predict(X_train)),\n",
    "                           'test_accuracy': metrics.accuracy_score(y_test, clf.predict(X_test)), \n",
    "                           'test_precision': metrics.precision_score(y_test, clf.predict(X_test)), \n",
    "                           'test_recall': metrics.recall_score(y_test, clf.predict(X_test)),\n",
    "                           'test_f1': metrics.f1_score(y_test, clf.predict(X_test))},\n",
    "                          index = [clf_name])\n",
    "    return result                                                                   "
   ]
  },
  {
   "cell_type": "markdown",
   "metadata": {},
   "source": [
    "#### Read in data and prepare training and testing sets"
   ]
  },
  {
   "cell_type": "code",
   "execution_count": 6,
   "metadata": {
    "collapsed": false
   },
   "outputs": [
    {
     "data": {
      "text/html": [
       "<div>\n",
       "<table border=\"1\" class=\"dataframe\">\n",
       "  <thead>\n",
       "    <tr style=\"text-align: right;\">\n",
       "      <th></th>\n",
       "      <th>activity</th>\n",
       "      <th>type</th>\n",
       "      <th>acc_avg</th>\n",
       "      <th>x_avg</th>\n",
       "      <th>y_avg</th>\n",
       "      <th>z_avg</th>\n",
       "      <th>acc_std</th>\n",
       "      <th>x_std</th>\n",
       "      <th>y_std</th>\n",
       "      <th>z_std</th>\n",
       "      <th>...</th>\n",
       "      <th>jerk_z_std</th>\n",
       "      <th>jerk_max</th>\n",
       "      <th>jerk_x_max</th>\n",
       "      <th>jerk_y_max</th>\n",
       "      <th>jerk_z_max</th>\n",
       "      <th>jerk_min</th>\n",
       "      <th>jerk_x_min</th>\n",
       "      <th>jerk_y_min</th>\n",
       "      <th>jerk_z_min</th>\n",
       "      <th>fall</th>\n",
       "    </tr>\n",
       "    <tr>\n",
       "      <th>test_id</th>\n",
       "      <th></th>\n",
       "      <th></th>\n",
       "      <th></th>\n",
       "      <th></th>\n",
       "      <th></th>\n",
       "      <th></th>\n",
       "      <th></th>\n",
       "      <th></th>\n",
       "      <th></th>\n",
       "      <th></th>\n",
       "      <th></th>\n",
       "      <th></th>\n",
       "      <th></th>\n",
       "      <th></th>\n",
       "      <th></th>\n",
       "      <th></th>\n",
       "      <th></th>\n",
       "      <th></th>\n",
       "      <th></th>\n",
       "      <th></th>\n",
       "      <th></th>\n",
       "    </tr>\n",
       "  </thead>\n",
       "  <tbody>\n",
       "    <tr>\n",
       "      <th>0</th>\n",
       "      <td>standing_up</td>\n",
       "      <td>ADL</td>\n",
       "      <td>9.552443</td>\n",
       "      <td>3.266730</td>\n",
       "      <td>5.630226</td>\n",
       "      <td>-4.807679</td>\n",
       "      <td>2.342120</td>\n",
       "      <td>4.158268</td>\n",
       "      <td>2.813486</td>\n",
       "      <td>2.560926</td>\n",
       "      <td>...</td>\n",
       "      <td>1.479079</td>\n",
       "      <td>6.950750</td>\n",
       "      <td>8.054477</td>\n",
       "      <td>5.309909</td>\n",
       "      <td>6.570453</td>\n",
       "      <td>-13.568339</td>\n",
       "      <td>-5.124949</td>\n",
       "      <td>-10.748145</td>\n",
       "      <td>-6.744196</td>\n",
       "      <td>0</td>\n",
       "    </tr>\n",
       "    <tr>\n",
       "      <th>1</th>\n",
       "      <td>standing_up</td>\n",
       "      <td>ADL</td>\n",
       "      <td>9.521244</td>\n",
       "      <td>3.629327</td>\n",
       "      <td>5.541744</td>\n",
       "      <td>-3.880594</td>\n",
       "      <td>2.291613</td>\n",
       "      <td>3.691587</td>\n",
       "      <td>4.339937</td>\n",
       "      <td>2.266056</td>\n",
       "      <td>...</td>\n",
       "      <td>0.889184</td>\n",
       "      <td>6.062499</td>\n",
       "      <td>2.144653</td>\n",
       "      <td>4.978083</td>\n",
       "      <td>2.619034</td>\n",
       "      <td>-6.738159</td>\n",
       "      <td>-1.957341</td>\n",
       "      <td>-6.749622</td>\n",
       "      <td>-2.905810</td>\n",
       "      <td>0</td>\n",
       "    </tr>\n",
       "    <tr>\n",
       "      <th>2</th>\n",
       "      <td>standing_up</td>\n",
       "      <td>ADL</td>\n",
       "      <td>9.608439</td>\n",
       "      <td>3.362532</td>\n",
       "      <td>5.861408</td>\n",
       "      <td>-4.778487</td>\n",
       "      <td>2.192242</td>\n",
       "      <td>4.061633</td>\n",
       "      <td>2.881601</td>\n",
       "      <td>2.075421</td>\n",
       "      <td>...</td>\n",
       "      <td>1.368305</td>\n",
       "      <td>10.301682</td>\n",
       "      <td>7.597698</td>\n",
       "      <td>8.046484</td>\n",
       "      <td>6.683351</td>\n",
       "      <td>-7.908932</td>\n",
       "      <td>-8.792149</td>\n",
       "      <td>-7.475692</td>\n",
       "      <td>-4.816930</td>\n",
       "      <td>0</td>\n",
       "    </tr>\n",
       "    <tr>\n",
       "      <th>3</th>\n",
       "      <td>standing_up</td>\n",
       "      <td>ADL</td>\n",
       "      <td>9.575243</td>\n",
       "      <td>2.995170</td>\n",
       "      <td>5.629874</td>\n",
       "      <td>-5.482137</td>\n",
       "      <td>1.485730</td>\n",
       "      <td>3.749535</td>\n",
       "      <td>2.363551</td>\n",
       "      <td>1.986514</td>\n",
       "      <td>...</td>\n",
       "      <td>0.785317</td>\n",
       "      <td>5.382611</td>\n",
       "      <td>4.066377</td>\n",
       "      <td>4.291689</td>\n",
       "      <td>2.777493</td>\n",
       "      <td>-6.323330</td>\n",
       "      <td>-1.232509</td>\n",
       "      <td>-6.390728</td>\n",
       "      <td>-3.226949</td>\n",
       "      <td>0</td>\n",
       "    </tr>\n",
       "    <tr>\n",
       "      <th>4</th>\n",
       "      <td>standing_up</td>\n",
       "      <td>ADL</td>\n",
       "      <td>9.548623</td>\n",
       "      <td>-2.296404</td>\n",
       "      <td>4.875306</td>\n",
       "      <td>-6.402479</td>\n",
       "      <td>2.018807</td>\n",
       "      <td>3.859272</td>\n",
       "      <td>1.854574</td>\n",
       "      <td>2.703216</td>\n",
       "      <td>...</td>\n",
       "      <td>1.841952</td>\n",
       "      <td>6.867238</td>\n",
       "      <td>1.965192</td>\n",
       "      <td>3.429155</td>\n",
       "      <td>10.635332</td>\n",
       "      <td>-9.242627</td>\n",
       "      <td>-3.454178</td>\n",
       "      <td>-3.480220</td>\n",
       "      <td>-5.986656</td>\n",
       "      <td>0</td>\n",
       "    </tr>\n",
       "  </tbody>\n",
       "</table>\n",
       "<p>5 rows × 35 columns</p>\n",
       "</div>"
      ],
      "text/plain": [
       "            activity type   acc_avg     x_avg     y_avg     z_avg   acc_std  \\\n",
       "test_id                                                                       \n",
       "0        standing_up  ADL  9.552443  3.266730  5.630226 -4.807679  2.342120   \n",
       "1        standing_up  ADL  9.521244  3.629327  5.541744 -3.880594  2.291613   \n",
       "2        standing_up  ADL  9.608439  3.362532  5.861408 -4.778487  2.192242   \n",
       "3        standing_up  ADL  9.575243  2.995170  5.629874 -5.482137  1.485730   \n",
       "4        standing_up  ADL  9.548623 -2.296404  4.875306 -6.402479  2.018807   \n",
       "\n",
       "            x_std     y_std     z_std  ...   jerk_z_std   jerk_max  \\\n",
       "test_id                                ...                           \n",
       "0        4.158268  2.813486  2.560926  ...     1.479079   6.950750   \n",
       "1        3.691587  4.339937  2.266056  ...     0.889184   6.062499   \n",
       "2        4.061633  2.881601  2.075421  ...     1.368305  10.301682   \n",
       "3        3.749535  2.363551  1.986514  ...     0.785317   5.382611   \n",
       "4        3.859272  1.854574  2.703216  ...     1.841952   6.867238   \n",
       "\n",
       "         jerk_x_max  jerk_y_max  jerk_z_max   jerk_min  jerk_x_min  \\\n",
       "test_id                                                              \n",
       "0          8.054477    5.309909    6.570453 -13.568339   -5.124949   \n",
       "1          2.144653    4.978083    2.619034  -6.738159   -1.957341   \n",
       "2          7.597698    8.046484    6.683351  -7.908932   -8.792149   \n",
       "3          4.066377    4.291689    2.777493  -6.323330   -1.232509   \n",
       "4          1.965192    3.429155   10.635332  -9.242627   -3.454178   \n",
       "\n",
       "         jerk_y_min  jerk_z_min  fall  \n",
       "test_id                                \n",
       "0        -10.748145   -6.744196     0  \n",
       "1         -6.749622   -2.905810     0  \n",
       "2         -7.475692   -4.816930     0  \n",
       "3         -6.390728   -3.226949     0  \n",
       "4         -3.480220   -5.986656     0  \n",
       "\n",
       "[5 rows x 35 columns]"
      ]
     },
     "execution_count": 6,
     "metadata": {},
     "output_type": "execute_result"
    }
   ],
   "source": [
    "data = pd.read_csv('acceleration_jerk_summary_statistics.csv', index_col=0)\n",
    "data.head()"
   ]
  },
  {
   "cell_type": "code",
   "execution_count": 7,
   "metadata": {
    "collapsed": true
   },
   "outputs": [],
   "source": [
    "# using magnitude features\n",
    "features_magn = ['acc_avg','acc_std','acc_min', 'acc_max', 'jerk_avg','jerk_std','jerk_min', 'jerk_max']\n",
    "#Split data into training and test sets.\n",
    "X_train_magn, X_test_magn, y_train_magn, y_test_magn = train_test_split(data[features_magn], data['fall'], \n",
    "                                                                        random_state = 42, test_size = 0.4)"
   ]
  },
  {
   "cell_type": "code",
   "execution_count": 8,
   "metadata": {
    "collapsed": true
   },
   "outputs": [],
   "source": [
    "# using 3 dim features \n",
    "features_3d = ['x_avg', 'x_std', 'x_min', 'x_max','jerk_x_avg','jerk_x_std','jerk_x_min','jerk_x_max', \n",
    "           'y_avg', 'y_std', 'y_min', 'y_max','jerk_y_avg','jerk_y_std','jerk_y_min','jerk_y_max',\n",
    "            'z_avg', 'z_std', 'z_min', 'z_max','jerk_z_avg','jerk_z_std','jerk_z_min','jerk_z_max']\n",
    "# Split data into training and test sets.\n",
    "X_train, X_test, y_train, y_test = train_test_split(data[features_3d], data['fall'], \n",
    "                                                                random_state = 42, test_size = 0.4)"
   ]
  },
  {
   "cell_type": "markdown",
   "metadata": {},
   "source": [
    "---------------\n",
    "## Logistic Regressions"
   ]
  },
  {
   "cell_type": "code",
   "execution_count": 9,
   "metadata": {
    "collapsed": true
   },
   "outputs": [],
   "source": [
    "# regularisation params\n",
    "Cs = [0.0001, 0.001, 0.01, 0.1, 1, 10, 100, 1000, 10000, 100000]"
   ]
  },
  {
   "cell_type": "markdown",
   "metadata": {
    "collapsed": true
   },
   "source": [
    "### Logistic regression using Magnitude features: L1 and L2 penalty"
   ]
  },
  {
   "cell_type": "markdown",
   "metadata": {},
   "source": [
    "#### Try L1 and L2 separately to see feature selection "
   ]
  },
  {
   "cell_type": "code",
   "execution_count": 10,
   "metadata": {
    "collapsed": false
   },
   "outputs": [
    {
     "name": "stdout",
     "output_type": "stream",
     "text": [
      "Model L1: LogisticRegressionCV(Cs=[0.0001, 0.001, 0.01, 0.1, 1, 10, 100, 1000, 10000, 100000],\n",
      "           class_weight=None, cv=5, dual=False, fit_intercept=True,\n",
      "           intercept_scaling=1.0, max_iter=100, multi_class='ovr',\n",
      "           n_jobs=1, penalty='l1', random_state=None, refit=True,\n",
      "           scoring=None, solver='liblinear', tol=0.0001, verbose=0)\n",
      "Model L1: Best C: [ 10000.]\n"
     ]
    }
   ],
   "source": [
    "# fit logistic regressions with L1 penalty\n",
    "lr_magn_L1 = LogisticRegressionCV(Cs=Cs,penalty='l1',solver = 'liblinear',cv = 5) \n",
    "lr_magn_L1.fit(X_train_magn, y_train_magn)\n",
    "print \"Model L1:\", lr_magn_L1\n",
    "print 'Model L1: Best C:', lr_magn_L1.C_"
   ]
  },
  {
   "cell_type": "code",
   "execution_count": 11,
   "metadata": {
    "collapsed": false
   },
   "outputs": [
    {
     "name": "stdout",
     "output_type": "stream",
     "text": [
      "Model L2: LogisticRegressionCV(Cs=[0.0001, 0.001, 0.01, 0.1, 1, 10, 100, 1000, 10000, 100000],\n",
      "           class_weight=None, cv=5, dual=False, fit_intercept=True,\n",
      "           intercept_scaling=1.0, max_iter=100, multi_class='ovr',\n",
      "           n_jobs=1, penalty='l2', random_state=None, refit=True,\n",
      "           scoring=None, solver='liblinear', tol=0.0001, verbose=0)\n",
      "Model L2: Best C: [ 10.]\n"
     ]
    }
   ],
   "source": [
    "# fit logistic regressions with L2 penalty\n",
    "lr_magn_L2 = LogisticRegressionCV(Cs=Cs,penalty='l2',solver = 'liblinear',cv = 5) \n",
    "lr_magn_L2.fit(X_train_magn, y_train_magn)\n",
    "print \"Model L2:\", lr_magn_L2\n",
    "print 'Model L2: Best C:', lr_magn_L2.C_"
   ]
  },
  {
   "cell_type": "code",
   "execution_count": 12,
   "metadata": {
    "collapsed": false
   },
   "outputs": [
    {
     "data": {
      "text/html": [
       "<div>\n",
       "<table border=\"1\" class=\"dataframe\">\n",
       "  <thead>\n",
       "    <tr style=\"text-align: right;\">\n",
       "      <th></th>\n",
       "      <th>acc_avg</th>\n",
       "      <th>acc_std</th>\n",
       "      <th>acc_min</th>\n",
       "      <th>acc_max</th>\n",
       "      <th>jerk_avg</th>\n",
       "      <th>jerk_std</th>\n",
       "      <th>jerk_min</th>\n",
       "      <th>jerk_max</th>\n",
       "      <th>intercept</th>\n",
       "    </tr>\n",
       "  </thead>\n",
       "  <tbody>\n",
       "    <tr>\n",
       "      <th>L1</th>\n",
       "      <td>-0.106049</td>\n",
       "      <td>0.062463</td>\n",
       "      <td>0.228631</td>\n",
       "      <td>0.480735</td>\n",
       "      <td>2.041500</td>\n",
       "      <td>-1.401309</td>\n",
       "      <td>-0.220717</td>\n",
       "      <td>0.135633</td>\n",
       "      <td>-11.119961</td>\n",
       "    </tr>\n",
       "    <tr>\n",
       "      <th>L2</th>\n",
       "      <td>-0.137463</td>\n",
       "      <td>0.058873</td>\n",
       "      <td>0.222853</td>\n",
       "      <td>0.474521</td>\n",
       "      <td>2.045413</td>\n",
       "      <td>-1.360607</td>\n",
       "      <td>-0.217497</td>\n",
       "      <td>0.130500</td>\n",
       "      <td>-10.663053</td>\n",
       "    </tr>\n",
       "  </tbody>\n",
       "</table>\n",
       "</div>"
      ],
      "text/plain": [
       "     acc_avg   acc_std   acc_min   acc_max  jerk_avg  jerk_std  jerk_min  \\\n",
       "L1 -0.106049  0.062463  0.228631  0.480735  2.041500 -1.401309 -0.220717   \n",
       "L2 -0.137463  0.058873  0.222853  0.474521  2.045413 -1.360607 -0.217497   \n",
       "\n",
       "    jerk_max  intercept  \n",
       "L1  0.135633 -11.119961  \n",
       "L2  0.130500 -10.663053  "
      ]
     },
     "execution_count": 12,
     "metadata": {},
     "output_type": "execute_result"
    }
   ],
   "source": [
    "# Model Coefficients\n",
    "pd.concat([model_coefficients(lr_magn_L1, features_magn, 'L1'),model_coefficients(lr_magn_L2, features_magn, 'L2')]) "
   ]
  },
  {
   "cell_type": "code",
   "execution_count": 13,
   "metadata": {
    "collapsed": false
   },
   "outputs": [
    {
     "data": {
      "text/html": [
       "<div>\n",
       "<table border=\"1\" class=\"dataframe\">\n",
       "  <thead>\n",
       "    <tr style=\"text-align: right;\">\n",
       "      <th></th>\n",
       "      <th>test_accuracy</th>\n",
       "      <th>test_f1</th>\n",
       "      <th>test_precision</th>\n",
       "      <th>test_recall</th>\n",
       "      <th>train_accuracy</th>\n",
       "      <th>train_f1</th>\n",
       "      <th>train_precision</th>\n",
       "      <th>train_recall</th>\n",
       "    </tr>\n",
       "  </thead>\n",
       "  <tbody>\n",
       "    <tr>\n",
       "      <th>LogRegr_Magn_L1</th>\n",
       "      <td>0.858161</td>\n",
       "      <td>0.678514</td>\n",
       "      <td>0.763636</td>\n",
       "      <td>0.610465</td>\n",
       "      <td>0.871405</td>\n",
       "      <td>0.702584</td>\n",
       "      <td>0.790842</td>\n",
       "      <td>0.632047</td>\n",
       "    </tr>\n",
       "    <tr>\n",
       "      <th>LogRegr_Magn_L2</th>\n",
       "      <td>0.859230</td>\n",
       "      <td>0.679643</td>\n",
       "      <td>0.768807</td>\n",
       "      <td>0.609012</td>\n",
       "      <td>0.872356</td>\n",
       "      <td>0.704458</td>\n",
       "      <td>0.794045</td>\n",
       "      <td>0.633037</td>\n",
       "    </tr>\n",
       "  </tbody>\n",
       "</table>\n",
       "</div>"
      ],
      "text/plain": [
       "                 test_accuracy   test_f1  test_precision  test_recall  \\\n",
       "LogRegr_Magn_L1       0.858161  0.678514        0.763636     0.610465   \n",
       "LogRegr_Magn_L2       0.859230  0.679643        0.768807     0.609012   \n",
       "\n",
       "                 train_accuracy  train_f1  train_precision  train_recall  \n",
       "LogRegr_Magn_L1        0.871405  0.702584         0.790842      0.632047  \n",
       "LogRegr_Magn_L2        0.872356  0.704458         0.794045      0.633037  "
      ]
     },
     "execution_count": 13,
     "metadata": {},
     "output_type": "execute_result"
    }
   ],
   "source": [
    "# Model performance\n",
    "mm1 = pd.concat([model_metrics(lr_magn_L1, X_train_magn, y_train_magn, X_test_magn, y_test_magn,'LogRegr_Magn_L1'), \n",
    "           model_metrics(lr_magn_L2, X_train_magn, y_train_magn, X_test_magn, y_test_magn, 'LogRegr_Magn_L2')])\n",
    "mm1"
   ]
  },
  {
   "cell_type": "code",
   "execution_count": 14,
   "metadata": {
    "collapsed": false
   },
   "outputs": [],
   "source": [
    "# get cross validation accuracy scores\n",
    "cv_scores_L1 = pd.DataFrame(lr_magn_L1.scores_[1], columns = lr_magn_L1.Cs_).T\n",
    "cv_scores_L1['mean'] = cv_scores_L1.mean(axis = 1)\n",
    "cv_scores_L2 = pd.DataFrame(lr_magn_L2.scores_[1], columns = lr_magn_L2.Cs_).T\n",
    "cv_scores_L2['mean'] = cv_scores_L2.mean(axis = 1)"
   ]
  },
  {
   "cell_type": "code",
   "execution_count": 15,
   "metadata": {
    "collapsed": false
   },
   "outputs": [
    {
     "data": {
      "text/plain": [
       "<matplotlib.text.Text at 0x1122f6a50>"
      ]
     },
     "execution_count": 15,
     "metadata": {},
     "output_type": "execute_result"
    },
    {
     "data": {
      "image/png": "[encoded data removed]",
      "text/plain": [
       "<matplotlib.figure.Figure at 0x10b998ad0>"
      ]
     },
     "metadata": {},
     "output_type": "display_data"
    }
   ],
   "source": [
    "# plot accuracy rate\n",
    "sns.set(style='darkgrid', palette='muted')\n",
    "fig, (ax1, ax2) = plt.subplots(2,1, sharex = True, figsize = (6,6))\n",
    "cv_scores_L1.plot(title = \"L1 penalty\", logx=True,ax = ax1, marker = 'o', ms = 4)\n",
    "cv_scores_L2.plot(title = \"L2 penalty\", logx=True,ax = ax2, marker = 'o', ms = 4)\n",
    "ax2.set_xlabel('C = 1/lambda')\n",
    "ax1.set_ylabel('Accuracy')\n",
    "ax2.set_ylabel('Accuracy')\n",
    "fig.suptitle(\"Accuracy in cross-validation folds: Using Magnitude features\")"
   ]
  },
  {
   "cell_type": "markdown",
   "metadata": {},
   "source": [
    "#### Use Cross validation for choosing between L1 an L2 and for regularisation parameter"
   ]
  },
  {
   "cell_type": "code",
   "execution_count": 16,
   "metadata": {
    "collapsed": false
   },
   "outputs": [
    {
     "name": "stdout",
     "output_type": "stream",
     "text": [
      "Best Params {'penalty': 'l2', 'C': 10}\n"
     ]
    }
   ],
   "source": [
    "param_grid = {'C': Cs, 'penalty':['l1','l2'] }\n",
    "lr_magn = GridSearchCV(LogisticRegression(), param_grid, cv = 5 )\n",
    "lr_magn.fit(X_train_magn, y_train_magn)\n",
    "print 'Best Params', lr_magn.best_params_"
   ]
  },
  {
   "cell_type": "code",
   "execution_count": 17,
   "metadata": {
    "collapsed": false
   },
   "outputs": [
    {
     "data": {
      "text/html": [
       "<div>\n",
       "<table border=\"1\" class=\"dataframe\">\n",
       "  <thead>\n",
       "    <tr style=\"text-align: right;\">\n",
       "      <th></th>\n",
       "      <th>test_accuracy</th>\n",
       "      <th>test_f1</th>\n",
       "      <th>test_precision</th>\n",
       "      <th>test_recall</th>\n",
       "      <th>train_accuracy</th>\n",
       "      <th>train_f1</th>\n",
       "      <th>train_precision</th>\n",
       "      <th>train_recall</th>\n",
       "    </tr>\n",
       "  </thead>\n",
       "  <tbody>\n",
       "    <tr>\n",
       "      <th>LogRegr: 8 features</th>\n",
       "      <td>0.85923</td>\n",
       "      <td>0.679643</td>\n",
       "      <td>0.768807</td>\n",
       "      <td>0.609012</td>\n",
       "      <td>0.872356</td>\n",
       "      <td>0.704458</td>\n",
       "      <td>0.794045</td>\n",
       "      <td>0.633037</td>\n",
       "    </tr>\n",
       "  </tbody>\n",
       "</table>\n",
       "</div>"
      ],
      "text/plain": [
       "                     test_accuracy   test_f1  test_precision  test_recall  \\\n",
       "LogRegr: 8 features        0.85923  0.679643        0.768807     0.609012   \n",
       "\n",
       "                     train_accuracy  train_f1  train_precision  train_recall  \n",
       "LogRegr: 8 features        0.872356  0.704458         0.794045      0.633037  "
      ]
     },
     "execution_count": 17,
     "metadata": {},
     "output_type": "execute_result"
    }
   ],
   "source": [
    "mm2 = model_metrics(lr_magn, X_train_magn, y_train_magn, X_test_magn, y_test_magn, 'LogRegr: 8 features')\n",
    "mm2"
   ]
  },
  {
   "cell_type": "code",
   "execution_count": 18,
   "metadata": {
    "collapsed": false
   },
   "outputs": [
    {
     "data": {
      "text/plain": [
       "LogisticRegression(C=10, class_weight=None, dual=False, fit_intercept=True,\n",
       "          intercept_scaling=1, max_iter=100, multi_class='ovr', n_jobs=1,\n",
       "          penalty='l2', random_state=None, solver='liblinear', tol=0.0001,\n",
       "          verbose=0, warm_start=False)"
      ]
     },
     "execution_count": 18,
     "metadata": {},
     "output_type": "execute_result"
    }
   ],
   "source": [
    "lr_magn.best_estimator_"
   ]
  },
  {
   "cell_type": "markdown",
   "metadata": {},
   "source": [
    "### Logistic regression using three dimensional features:  L1 and L2 penalty"
   ]
  },
  {
   "cell_type": "markdown",
   "metadata": {},
   "source": [
    "#### Try L1 and L2 separately to see feature selection "
   ]
  },
  {
   "cell_type": "code",
   "execution_count": 19,
   "metadata": {
    "collapsed": false
   },
   "outputs": [
    {
     "name": "stdout",
     "output_type": "stream",
     "text": [
      "Model L1: LogisticRegressionCV(Cs=[0.0001, 0.001, 0.01, 0.1, 1, 10, 100, 1000, 10000, 100000],\n",
      "           class_weight=None, cv=5, dual=False, fit_intercept=True,\n",
      "           intercept_scaling=1.0, max_iter=100, multi_class='ovr',\n",
      "           n_jobs=1, penalty='l1', random_state=None, refit=True,\n",
      "           scoring=None, solver='liblinear', tol=0.0001, verbose=0)\n",
      "Model L1: Best C: [ 1.]\n",
      "Model L2: LogisticRegressionCV(Cs=[0.0001, 0.001, 0.01, 0.1, 1, 10, 100, 1000, 10000, 100000],\n",
      "           class_weight=None, cv=5, dual=False, fit_intercept=True,\n",
      "           intercept_scaling=1.0, max_iter=100, multi_class='ovr',\n",
      "           n_jobs=1, penalty='l2', random_state=None, refit=True,\n",
      "           scoring=None, solver='liblinear', tol=0.0001, verbose=0)\n",
      "Model L2: Best C: [ 1.]\n"
     ]
    }
   ],
   "source": [
    "# fit logistic regressions with L1 and L2 penalties \n",
    "lr_L1 = LogisticRegressionCV(Cs=Cs,penalty='l1',solver = 'liblinear',cv = 5) \n",
    "lr_L1.fit(X_train, y_train)\n",
    "lr_L2 = LogisticRegressionCV(Cs=Cs,penalty='l2',solver = 'liblinear',cv = 5) \n",
    "lr_L2.fit(X_train, y_train)\n",
    "print \"Model L1:\", lr_L1\n",
    "print 'Model L1: Best C:', lr_L1.C_\n",
    "print \"Model L2:\", lr_L2\n",
    "print 'Model L2: Best C:', lr_L2.C_"
   ]
  },
  {
   "cell_type": "code",
   "execution_count": 20,
   "metadata": {
    "collapsed": false
   },
   "outputs": [
    {
     "data": {
      "text/html": [
       "<div>\n",
       "<table border=\"1\" class=\"dataframe\">\n",
       "  <thead>\n",
       "    <tr style=\"text-align: right;\">\n",
       "      <th></th>\n",
       "      <th>test_accuracy</th>\n",
       "      <th>test_f1</th>\n",
       "      <th>test_precision</th>\n",
       "      <th>test_recall</th>\n",
       "      <th>train_accuracy</th>\n",
       "      <th>train_f1</th>\n",
       "      <th>train_precision</th>\n",
       "      <th>train_recall</th>\n",
       "    </tr>\n",
       "  </thead>\n",
       "  <tbody>\n",
       "    <tr>\n",
       "      <th>LogRegr_L1</th>\n",
       "      <td>0.942623</td>\n",
       "      <td>0.877752</td>\n",
       "      <td>0.918919</td>\n",
       "      <td>0.840116</td>\n",
       "      <td>0.954837</td>\n",
       "      <td>0.902464</td>\n",
       "      <td>0.938100</td>\n",
       "      <td>0.869436</td>\n",
       "    </tr>\n",
       "    <tr>\n",
       "      <th>LogRegr_L2</th>\n",
       "      <td>0.941910</td>\n",
       "      <td>0.875667</td>\n",
       "      <td>0.921348</td>\n",
       "      <td>0.834302</td>\n",
       "      <td>0.953649</td>\n",
       "      <td>0.899640</td>\n",
       "      <td>0.937768</td>\n",
       "      <td>0.864491</td>\n",
       "    </tr>\n",
       "  </tbody>\n",
       "</table>\n",
       "</div>"
      ],
      "text/plain": [
       "            test_accuracy   test_f1  test_precision  test_recall  \\\n",
       "LogRegr_L1       0.942623  0.877752        0.918919     0.840116   \n",
       "LogRegr_L2       0.941910  0.875667        0.921348     0.834302   \n",
       "\n",
       "            train_accuracy  train_f1  train_precision  train_recall  \n",
       "LogRegr_L1        0.954837  0.902464         0.938100      0.869436  \n",
       "LogRegr_L2        0.953649  0.899640         0.937768      0.864491  "
      ]
     },
     "execution_count": 20,
     "metadata": {},
     "output_type": "execute_result"
    }
   ],
   "source": [
    "# Model performance\n",
    "metrics_LR = pd.concat([model_metrics(lr_L1, X_train, y_train, X_test, y_test, 'LogRegr_L1'), \n",
    "                       model_metrics(lr_L2, X_train, y_train, X_test, y_test, 'LogRegr_L2')])\n",
    "metrics_LR"
   ]
  },
  {
   "cell_type": "code",
   "execution_count": 21,
   "metadata": {
    "collapsed": false
   },
   "outputs": [
    {
     "data": {
      "text/html": [
       "<div>\n",
       "<table border=\"1\" class=\"dataframe\">\n",
       "  <thead>\n",
       "    <tr style=\"text-align: right;\">\n",
       "      <th></th>\n",
       "      <th>x_avg</th>\n",
       "      <th>x_std</th>\n",
       "      <th>x_min</th>\n",
       "      <th>x_max</th>\n",
       "      <th>jerk_x_avg</th>\n",
       "      <th>jerk_x_std</th>\n",
       "      <th>jerk_x_min</th>\n",
       "      <th>jerk_x_max</th>\n",
       "      <th>y_avg</th>\n",
       "      <th>y_std</th>\n",
       "      <th>...</th>\n",
       "      <th>jerk_y_max</th>\n",
       "      <th>z_avg</th>\n",
       "      <th>z_std</th>\n",
       "      <th>z_min</th>\n",
       "      <th>z_max</th>\n",
       "      <th>jerk_z_avg</th>\n",
       "      <th>jerk_z_std</th>\n",
       "      <th>jerk_z_min</th>\n",
       "      <th>jerk_z_max</th>\n",
       "      <th>intercept</th>\n",
       "    </tr>\n",
       "  </thead>\n",
       "  <tbody>\n",
       "    <tr>\n",
       "      <th>L1</th>\n",
       "      <td>-0.123498</td>\n",
       "      <td>0.348156</td>\n",
       "      <td>-0.127192</td>\n",
       "      <td>0.196152</td>\n",
       "      <td>0.000000</td>\n",
       "      <td>-1.651406</td>\n",
       "      <td>-0.210321</td>\n",
       "      <td>0.264481</td>\n",
       "      <td>0.158067</td>\n",
       "      <td>-0.972243</td>\n",
       "      <td>...</td>\n",
       "      <td>0.244774</td>\n",
       "      <td>0.169781</td>\n",
       "      <td>1.541861</td>\n",
       "      <td>0.038586</td>\n",
       "      <td>-0.094253</td>\n",
       "      <td>-1.825059</td>\n",
       "      <td>-1.086107</td>\n",
       "      <td>-0.119628</td>\n",
       "      <td>0.101853</td>\n",
       "      <td>-8.832092</td>\n",
       "    </tr>\n",
       "    <tr>\n",
       "      <th>L2</th>\n",
       "      <td>-0.109424</td>\n",
       "      <td>0.346393</td>\n",
       "      <td>-0.117745</td>\n",
       "      <td>0.178257</td>\n",
       "      <td>-0.087283</td>\n",
       "      <td>-1.620076</td>\n",
       "      <td>-0.206863</td>\n",
       "      <td>0.263479</td>\n",
       "      <td>0.156630</td>\n",
       "      <td>-0.932808</td>\n",
       "      <td>...</td>\n",
       "      <td>0.232106</td>\n",
       "      <td>0.169281</td>\n",
       "      <td>1.467664</td>\n",
       "      <td>0.042309</td>\n",
       "      <td>-0.100389</td>\n",
       "      <td>-1.364445</td>\n",
       "      <td>-0.993957</td>\n",
       "      <td>-0.115452</td>\n",
       "      <td>0.095925</td>\n",
       "      <td>-8.086258</td>\n",
       "    </tr>\n",
       "  </tbody>\n",
       "</table>\n",
       "<p>2 rows × 25 columns</p>\n",
       "</div>"
      ],
      "text/plain": [
       "       x_avg     x_std     x_min     x_max  jerk_x_avg  jerk_x_std  \\\n",
       "L1 -0.123498  0.348156 -0.127192  0.196152    0.000000   -1.651406   \n",
       "L2 -0.109424  0.346393 -0.117745  0.178257   -0.087283   -1.620076   \n",
       "\n",
       "    jerk_x_min  jerk_x_max     y_avg     y_std    ...      jerk_y_max  \\\n",
       "L1   -0.210321    0.264481  0.158067 -0.972243    ...        0.244774   \n",
       "L2   -0.206863    0.263479  0.156630 -0.932808    ...        0.232106   \n",
       "\n",
       "       z_avg     z_std     z_min     z_max  jerk_z_avg  jerk_z_std  \\\n",
       "L1  0.169781  1.541861  0.038586 -0.094253   -1.825059   -1.086107   \n",
       "L2  0.169281  1.467664  0.042309 -0.100389   -1.364445   -0.993957   \n",
       "\n",
       "    jerk_z_min  jerk_z_max  intercept  \n",
       "L1   -0.119628    0.101853  -8.832092  \n",
       "L2   -0.115452    0.095925  -8.086258  \n",
       "\n",
       "[2 rows x 25 columns]"
      ]
     },
     "execution_count": 21,
     "metadata": {},
     "output_type": "execute_result"
    }
   ],
   "source": [
    "# Model Coefficients\n",
    "pd.concat([model_coefficients(lr_L1, features_3d, 'L1'),model_coefficients(lr_L2, features_3d, 'L2')]) "
   ]
  },
  {
   "cell_type": "code",
   "execution_count": 22,
   "metadata": {
    "collapsed": false
   },
   "outputs": [],
   "source": [
    "# get cross validation accuracy scores\n",
    "cv_scores_L1 = pd.DataFrame(lr_L1.scores_[1], columns = lr_L1.Cs_).T\n",
    "cv_scores_L1['mean'] = cv_scores_L1.mean(axis = 1)\n",
    "cv_scores_L2 = pd.DataFrame(lr_L2.scores_[1], columns = lr_L2.Cs_).T\n",
    "cv_scores_L2['mean'] = cv_scores_L2.mean(axis = 1)"
   ]
  },
  {
   "cell_type": "code",
   "execution_count": 23,
   "metadata": {
    "collapsed": false
   },
   "outputs": [
    {
     "data": {
      "text/plain": [
       "<matplotlib.text.Text at 0x116681590>"
      ]
     },
     "execution_count": 23,
     "metadata": {},
     "output_type": "execute_result"
    },
    {
     "data": {
      "image/png": "[encoded data removed]",
      "text/plain": [
       "<matplotlib.figure.Figure at 0x112075090>"
      ]
     },
     "metadata": {},
     "output_type": "display_data"
    }
   ],
   "source": [
    "# plot accuracy rate\n",
    "sns.set(style='darkgrid', palette='muted')\n",
    "fig, (ax1, ax2) = plt.subplots(2,1, sharex = True, figsize = (6,6))\n",
    "cv_scores_L1.plot(title = \"L1 penalty\", logx=True,ax = ax1, marker = 'o', ms = 4)\n",
    "cv_scores_L2.plot(title = \"L2 penalty\", logx=True,ax = ax2, marker = 'o', ms = 4)\n",
    "ax2.set_xlabel('C = 1/lambda')\n",
    "ax1.set_ylabel('Accuracy')\n",
    "ax2.set_ylabel('Accuracy')\n",
    "fig.suptitle(\"Accuracy in cross-validation folds: Using Three-Dimensional features\")"
   ]
  },
  {
   "cell_type": "markdown",
   "metadata": {},
   "source": [
    "#### Use Cross validation for choosing between L1 an L2 and for regularisation parameter"
   ]
  },
  {
   "cell_type": "code",
   "execution_count": 24,
   "metadata": {
    "collapsed": false
   },
   "outputs": [
    {
     "name": "stdout",
     "output_type": "stream",
     "text": [
      "Best Params {'penalty': 'l1', 'C': 1}\n"
     ]
    }
   ],
   "source": [
    "param_grid = {'C': Cs, 'penalty':['l1','l2'] }\n",
    "clf1 = GridSearchCV(LogisticRegression(), param_grid, cv = 5 )\n",
    "clf1.fit(X_train, y_train)\n",
    "print 'Best Params', clf1.best_params_"
   ]
  },
  {
   "cell_type": "code",
   "execution_count": 25,
   "metadata": {
    "collapsed": false
   },
   "outputs": [
    {
     "data": {
      "text/html": [
       "<div>\n",
       "<table border=\"1\" class=\"dataframe\">\n",
       "  <thead>\n",
       "    <tr style=\"text-align: right;\">\n",
       "      <th></th>\n",
       "      <th>test_accuracy</th>\n",
       "      <th>test_f1</th>\n",
       "      <th>test_precision</th>\n",
       "      <th>test_recall</th>\n",
       "      <th>train_accuracy</th>\n",
       "      <th>train_f1</th>\n",
       "      <th>train_precision</th>\n",
       "      <th>train_recall</th>\n",
       "    </tr>\n",
       "  </thead>\n",
       "  <tbody>\n",
       "    <tr>\n",
       "      <th>LogRegr: 24 features</th>\n",
       "      <td>0.942623</td>\n",
       "      <td>0.877752</td>\n",
       "      <td>0.918919</td>\n",
       "      <td>0.840116</td>\n",
       "      <td>0.954837</td>\n",
       "      <td>0.902464</td>\n",
       "      <td>0.9381</td>\n",
       "      <td>0.869436</td>\n",
       "    </tr>\n",
       "  </tbody>\n",
       "</table>\n",
       "</div>"
      ],
      "text/plain": [
       "                      test_accuracy   test_f1  test_precision  test_recall  \\\n",
       "LogRegr: 24 features       0.942623  0.877752        0.918919     0.840116   \n",
       "\n",
       "                      train_accuracy  train_f1  train_precision  train_recall  \n",
       "LogRegr: 24 features        0.954837  0.902464           0.9381      0.869436  "
      ]
     },
     "execution_count": 25,
     "metadata": {},
     "output_type": "execute_result"
    }
   ],
   "source": [
    "mm3 = model_metrics(clf1, X_train, y_train, X_test, y_test, 'LogRegr: 24 features')\n",
    "mm3"
   ]
  },
  {
   "cell_type": "code",
   "execution_count": 26,
   "metadata": {
    "collapsed": false
   },
   "outputs": [
    {
     "data": {
      "text/plain": [
       "LogisticRegression(C=1, class_weight=None, dual=False, fit_intercept=True,\n",
       "          intercept_scaling=1, max_iter=100, multi_class='ovr', n_jobs=1,\n",
       "          penalty='l1', random_state=None, solver='liblinear', tol=0.0001,\n",
       "          verbose=0, warm_start=False)"
      ]
     },
     "execution_count": 26,
     "metadata": {},
     "output_type": "execute_result"
    }
   ],
   "source": [
    "clf1.best_estimator_"
   ]
  },
  {
   "cell_type": "code",
   "execution_count": null,
   "metadata": {
    "collapsed": true
   },
   "outputs": [],
   "source": []
  },
  {
   "cell_type": "markdown",
   "metadata": {},
   "source": [
    "--------\n",
    "## Decision Trees"
   ]
  },
  {
   "cell_type": "markdown",
   "metadata": {},
   "source": [
    "### Decision tree: using magnitude features"
   ]
  },
  {
   "cell_type": "code",
   "execution_count": 27,
   "metadata": {
    "collapsed": false
   },
   "outputs": [
    {
     "data": {
      "text/plain": [
       "DecisionTreeClassifier(class_weight=None, criterion='gini', max_depth=None,\n",
       "            max_features=None, max_leaf_nodes=None,\n",
       "            min_impurity_split=1e-07, min_samples_leaf=1,\n",
       "            min_samples_split=2, min_weight_fraction_leaf=0.0,\n",
       "            presort=False, random_state=None, splitter='best')"
      ]
     },
     "execution_count": 27,
     "metadata": {},
     "output_type": "execute_result"
    }
   ],
   "source": [
    "clf_tree_magn = tree.DecisionTreeClassifier()\n",
    "clf_tree_magn.fit(X_train_magn, y_train_magn)"
   ]
  },
  {
   "cell_type": "code",
   "execution_count": 28,
   "metadata": {
    "collapsed": false
   },
   "outputs": [
    {
     "data": {
      "text/html": [
       "<div>\n",
       "<table border=\"1\" class=\"dataframe\">\n",
       "  <thead>\n",
       "    <tr style=\"text-align: right;\">\n",
       "      <th></th>\n",
       "      <th>test_accuracy</th>\n",
       "      <th>test_f1</th>\n",
       "      <th>test_precision</th>\n",
       "      <th>test_recall</th>\n",
       "      <th>train_accuracy</th>\n",
       "      <th>train_f1</th>\n",
       "      <th>train_precision</th>\n",
       "      <th>train_recall</th>\n",
       "    </tr>\n",
       "  </thead>\n",
       "  <tbody>\n",
       "    <tr>\n",
       "      <th>Tree: 8 features</th>\n",
       "      <td>0.857092</td>\n",
       "      <td>0.70493</td>\n",
       "      <td>0.71386</td>\n",
       "      <td>0.696221</td>\n",
       "      <td>1.0</td>\n",
       "      <td>1.0</td>\n",
       "      <td>1.0</td>\n",
       "      <td>1.0</td>\n",
       "    </tr>\n",
       "  </tbody>\n",
       "</table>\n",
       "</div>"
      ],
      "text/plain": [
       "                  test_accuracy  test_f1  test_precision  test_recall  \\\n",
       "Tree: 8 features       0.857092  0.70493         0.71386     0.696221   \n",
       "\n",
       "                  train_accuracy  train_f1  train_precision  train_recall  \n",
       "Tree: 8 features             1.0       1.0              1.0           1.0  "
      ]
     },
     "execution_count": 28,
     "metadata": {},
     "output_type": "execute_result"
    }
   ],
   "source": [
    "mm4 = model_metrics(clf_tree_magn, X_train_magn, y_train_magn, X_test_magn, y_test_magn, 'Tree: 8 features')\n",
    "mm4"
   ]
  },
  {
   "cell_type": "code",
   "execution_count": 29,
   "metadata": {
    "collapsed": false
   },
   "outputs": [],
   "source": [
    "with open(\"tree.dot\", 'w') as f:\n",
    "    f = tree.export_graphviz(clf_tree_magn, out_file=f)"
   ]
  },
  {
   "cell_type": "code",
   "execution_count": 30,
   "metadata": {
    "collapsed": false,
    "scrolled": false
   },
   "outputs": [
    {
     "data": {
      "text/html": [
       "\n",
       "        <iframe\n",
       "            width=\"800\"\n",
       "            height=\"500\"\n",
       "            src=\"tree.pdf\"\n",
       "            frameborder=\"0\"\n",
       "            allowfullscreen\n",
       "        ></iframe>\n",
       "        "
      ],
      "text/plain": [
       "<IPython.lib.display.IFrame at 0x1172b24d0>"
      ]
     },
     "execution_count": 30,
     "metadata": {},
     "output_type": "execute_result"
    }
   ],
   "source": [
    "from IPython.display import IFrame\n",
    "IFrame(\"tree.pdf\", width=800, height=500,)"
   ]
  },
  {
   "cell_type": "code",
   "execution_count": 31,
   "metadata": {
    "collapsed": false
   },
   "outputs": [
    {
     "data": {
      "text/html": [
       "<div>\n",
       "<table border=\"1\" class=\"dataframe\">\n",
       "  <thead>\n",
       "    <tr style=\"text-align: right;\">\n",
       "      <th></th>\n",
       "      <th>acc_max</th>\n",
       "      <th>acc_std</th>\n",
       "      <th>jerk_avg</th>\n",
       "      <th>acc_min</th>\n",
       "      <th>acc_avg</th>\n",
       "      <th>jerk_std</th>\n",
       "      <th>jerk_min</th>\n",
       "      <th>jerk_max</th>\n",
       "    </tr>\n",
       "  </thead>\n",
       "  <tbody>\n",
       "    <tr>\n",
       "      <th>importance</th>\n",
       "      <td>0.437533</td>\n",
       "      <td>0.125059</td>\n",
       "      <td>0.1079</td>\n",
       "      <td>0.090362</td>\n",
       "      <td>0.075301</td>\n",
       "      <td>0.067711</td>\n",
       "      <td>0.052046</td>\n",
       "      <td>0.044087</td>\n",
       "    </tr>\n",
       "  </tbody>\n",
       "</table>\n",
       "</div>"
      ],
      "text/plain": [
       "             acc_max   acc_std  jerk_avg   acc_min   acc_avg  jerk_std  \\\n",
       "importance  0.437533  0.125059    0.1079  0.090362  0.075301  0.067711   \n",
       "\n",
       "            jerk_min  jerk_max  \n",
       "importance  0.052046  0.044087  "
      ]
     },
     "execution_count": 31,
     "metadata": {},
     "output_type": "execute_result"
    }
   ],
   "source": [
    "# feature importance\n",
    "feature_importance = pd.DataFrame(clf_tree_magn.feature_importances_, index = features_magn, columns = ['importance'])\n",
    "feature_importance.sort_values('importance', ascending=False).T"
   ]
  },
  {
   "cell_type": "markdown",
   "metadata": {
    "collapsed": true
   },
   "source": [
    "Q: How can i measure complexity of the tree??"
   ]
  },
  {
   "cell_type": "markdown",
   "metadata": {
    "collapsed": true
   },
   "source": [
    "### Decision tree using 3 dimensional features"
   ]
  },
  {
   "cell_type": "code",
   "execution_count": 32,
   "metadata": {
    "collapsed": false
   },
   "outputs": [
    {
     "data": {
      "text/plain": [
       "DecisionTreeClassifier(class_weight=None, criterion='gini', max_depth=None,\n",
       "            max_features=None, max_leaf_nodes=None,\n",
       "            min_impurity_split=1e-07, min_samples_leaf=1,\n",
       "            min_samples_split=2, min_weight_fraction_leaf=0.0,\n",
       "            presort=False, random_state=None, splitter='best')"
      ]
     },
     "execution_count": 32,
     "metadata": {},
     "output_type": "execute_result"
    }
   ],
   "source": [
    "clf_tree = tree.DecisionTreeClassifier()\n",
    "clf_tree.fit(X_train, y_train)"
   ]
  },
  {
   "cell_type": "code",
   "execution_count": 33,
   "metadata": {
    "collapsed": false
   },
   "outputs": [
    {
     "data": {
      "text/html": [
       "<div>\n",
       "<table border=\"1\" class=\"dataframe\">\n",
       "  <thead>\n",
       "    <tr style=\"text-align: right;\">\n",
       "      <th></th>\n",
       "      <th>test_accuracy</th>\n",
       "      <th>test_f1</th>\n",
       "      <th>test_precision</th>\n",
       "      <th>test_recall</th>\n",
       "      <th>train_accuracy</th>\n",
       "      <th>train_f1</th>\n",
       "      <th>train_precision</th>\n",
       "      <th>train_recall</th>\n",
       "    </tr>\n",
       "  </thead>\n",
       "  <tbody>\n",
       "    <tr>\n",
       "      <th>Tree: 24 features</th>\n",
       "      <td>0.943336</td>\n",
       "      <td>0.884195</td>\n",
       "      <td>0.886131</td>\n",
       "      <td>0.882267</td>\n",
       "      <td>1.0</td>\n",
       "      <td>1.0</td>\n",
       "      <td>1.0</td>\n",
       "      <td>1.0</td>\n",
       "    </tr>\n",
       "  </tbody>\n",
       "</table>\n",
       "</div>"
      ],
      "text/plain": [
       "                   test_accuracy   test_f1  test_precision  test_recall  \\\n",
       "Tree: 24 features       0.943336  0.884195        0.886131     0.882267   \n",
       "\n",
       "                   train_accuracy  train_f1  train_precision  train_recall  \n",
       "Tree: 24 features             1.0       1.0              1.0           1.0  "
      ]
     },
     "execution_count": 33,
     "metadata": {},
     "output_type": "execute_result"
    }
   ],
   "source": [
    "mm5 = model_metrics(clf_tree, X_train, y_train, X_test, y_test, 'Tree: 24 features')\n",
    "mm5"
   ]
  },
  {
   "cell_type": "code",
   "execution_count": 34,
   "metadata": {
    "collapsed": false
   },
   "outputs": [
    {
     "data": {
      "text/html": [
       "<div>\n",
       "<table border=\"1\" class=\"dataframe\">\n",
       "  <thead>\n",
       "    <tr style=\"text-align: right;\">\n",
       "      <th></th>\n",
       "      <th>z_std</th>\n",
       "      <th>y_avg</th>\n",
       "      <th>x_std</th>\n",
       "      <th>x_avg</th>\n",
       "      <th>z_min</th>\n",
       "      <th>y_min</th>\n",
       "      <th>x_max</th>\n",
       "      <th>y_std</th>\n",
       "      <th>jerk_x_min</th>\n",
       "      <th>x_min</th>\n",
       "      <th>...</th>\n",
       "      <th>jerk_y_min</th>\n",
       "      <th>jerk_y_std</th>\n",
       "      <th>jerk_z_avg</th>\n",
       "      <th>jerk_z_max</th>\n",
       "      <th>jerk_x_avg</th>\n",
       "      <th>jerk_y_avg</th>\n",
       "      <th>jerk_x_max</th>\n",
       "      <th>jerk_z_std</th>\n",
       "      <th>jerk_z_min</th>\n",
       "      <th>jerk_x_std</th>\n",
       "    </tr>\n",
       "  </thead>\n",
       "  <tbody>\n",
       "    <tr>\n",
       "      <th>importance</th>\n",
       "      <td>0.511803</td>\n",
       "      <td>0.188535</td>\n",
       "      <td>0.060369</td>\n",
       "      <td>0.036248</td>\n",
       "      <td>0.026113</td>\n",
       "      <td>0.024844</td>\n",
       "      <td>0.020739</td>\n",
       "      <td>0.017578</td>\n",
       "      <td>0.015343</td>\n",
       "      <td>0.013433</td>\n",
       "      <td>...</td>\n",
       "      <td>0.007422</td>\n",
       "      <td>0.006986</td>\n",
       "      <td>0.00578</td>\n",
       "      <td>0.005499</td>\n",
       "      <td>0.005301</td>\n",
       "      <td>0.004295</td>\n",
       "      <td>0.003575</td>\n",
       "      <td>0.003024</td>\n",
       "      <td>0.001609</td>\n",
       "      <td>0.0</td>\n",
       "    </tr>\n",
       "  </tbody>\n",
       "</table>\n",
       "<p>1 rows × 24 columns</p>\n",
       "</div>"
      ],
      "text/plain": [
       "               z_std     y_avg     x_std     x_avg     z_min     y_min  \\\n",
       "importance  0.511803  0.188535  0.060369  0.036248  0.026113  0.024844   \n",
       "\n",
       "               x_max     y_std  jerk_x_min     x_min     ...      jerk_y_min  \\\n",
       "importance  0.020739  0.017578    0.015343  0.013433     ...        0.007422   \n",
       "\n",
       "            jerk_y_std  jerk_z_avg  jerk_z_max  jerk_x_avg  jerk_y_avg  \\\n",
       "importance    0.006986     0.00578    0.005499    0.005301    0.004295   \n",
       "\n",
       "            jerk_x_max  jerk_z_std  jerk_z_min  jerk_x_std  \n",
       "importance    0.003575    0.003024    0.001609         0.0  \n",
       "\n",
       "[1 rows x 24 columns]"
      ]
     },
     "execution_count": 34,
     "metadata": {},
     "output_type": "execute_result"
    }
   ],
   "source": [
    "# feature importance\n",
    "feature_importance = pd.DataFrame(clf_tree.feature_importances_, index = features_3d, columns = ['importance'])\n",
    "feature_importance.sort_values('importance', ascending=False).T"
   ]
  },
  {
   "cell_type": "markdown",
   "metadata": {},
   "source": [
    "----------------------\n",
    "## Results so far "
   ]
  },
  {
   "cell_type": "code",
   "execution_count": 35,
   "metadata": {
    "collapsed": false
   },
   "outputs": [
    {
     "data": {
      "text/html": [
       "<div>\n",
       "<table border=\"1\" class=\"dataframe\">\n",
       "  <thead>\n",
       "    <tr style=\"text-align: right;\">\n",
       "      <th></th>\n",
       "      <th>test_accuracy</th>\n",
       "      <th>test_f1</th>\n",
       "      <th>test_precision</th>\n",
       "      <th>test_recall</th>\n",
       "      <th>train_accuracy</th>\n",
       "      <th>train_f1</th>\n",
       "      <th>train_precision</th>\n",
       "      <th>train_recall</th>\n",
       "    </tr>\n",
       "  </thead>\n",
       "  <tbody>\n",
       "    <tr>\n",
       "      <th>LogRegr: 8 features</th>\n",
       "      <td>0.859230</td>\n",
       "      <td>0.679643</td>\n",
       "      <td>0.768807</td>\n",
       "      <td>0.609012</td>\n",
       "      <td>0.872356</td>\n",
       "      <td>0.704458</td>\n",
       "      <td>0.794045</td>\n",
       "      <td>0.633037</td>\n",
       "    </tr>\n",
       "    <tr>\n",
       "      <th>LogRegr: 24 features</th>\n",
       "      <td>0.942623</td>\n",
       "      <td>0.877752</td>\n",
       "      <td>0.918919</td>\n",
       "      <td>0.840116</td>\n",
       "      <td>0.954837</td>\n",
       "      <td>0.902464</td>\n",
       "      <td>0.938100</td>\n",
       "      <td>0.869436</td>\n",
       "    </tr>\n",
       "    <tr>\n",
       "      <th>Tree: 8 features</th>\n",
       "      <td>0.857092</td>\n",
       "      <td>0.704930</td>\n",
       "      <td>0.713860</td>\n",
       "      <td>0.696221</td>\n",
       "      <td>1.000000</td>\n",
       "      <td>1.000000</td>\n",
       "      <td>1.000000</td>\n",
       "      <td>1.000000</td>\n",
       "    </tr>\n",
       "    <tr>\n",
       "      <th>Tree: 24 features</th>\n",
       "      <td>0.943336</td>\n",
       "      <td>0.884195</td>\n",
       "      <td>0.886131</td>\n",
       "      <td>0.882267</td>\n",
       "      <td>1.000000</td>\n",
       "      <td>1.000000</td>\n",
       "      <td>1.000000</td>\n",
       "      <td>1.000000</td>\n",
       "    </tr>\n",
       "  </tbody>\n",
       "</table>\n",
       "</div>"
      ],
      "text/plain": [
       "                      test_accuracy   test_f1  test_precision  test_recall  \\\n",
       "LogRegr: 8 features        0.859230  0.679643        0.768807     0.609012   \n",
       "LogRegr: 24 features       0.942623  0.877752        0.918919     0.840116   \n",
       "Tree: 8 features           0.857092  0.704930        0.713860     0.696221   \n",
       "Tree: 24 features          0.943336  0.884195        0.886131     0.882267   \n",
       "\n",
       "                      train_accuracy  train_f1  train_precision  train_recall  \n",
       "LogRegr: 8 features         0.872356  0.704458         0.794045      0.633037  \n",
       "LogRegr: 24 features        0.954837  0.902464         0.938100      0.869436  \n",
       "Tree: 8 features            1.000000  1.000000         1.000000      1.000000  \n",
       "Tree: 24 features           1.000000  1.000000         1.000000      1.000000  "
      ]
     },
     "execution_count": 35,
     "metadata": {},
     "output_type": "execute_result"
    }
   ],
   "source": [
    "pd.concat([mm2,mm3,mm4,mm5])"
   ]
  },
  {
   "cell_type": "code",
   "execution_count": null,
   "metadata": {
    "collapsed": true
   },
   "outputs": [],
   "source": []
  },
  {
   "cell_type": "code",
   "execution_count": null,
   "metadata": {
    "collapsed": true
   },
   "outputs": [],
   "source": []
  },
  {
   "cell_type": "code",
   "execution_count": null,
   "metadata": {
    "collapsed": true
   },
   "outputs": [],
   "source": []
  },
  {
   "cell_type": "code",
   "execution_count": null,
   "metadata": {
    "collapsed": true
   },
   "outputs": [],
   "source": []
  },
  {
   "cell_type": "code",
   "execution_count": null,
   "metadata": {
    "collapsed": true
   },
   "outputs": [],
   "source": []
  },
  {
   "cell_type": "code",
   "execution_count": null,
   "metadata": {
    "collapsed": true
   },
   "outputs": [],
   "source": []
  },
  {
   "cell_type": "code",
   "execution_count": null,
   "metadata": {
    "collapsed": true
   },
   "outputs": [],
   "source": []
  }
 ],
 "metadata": {
  "anaconda-cloud": {},
  "kernelspec": {
   "display_name": "Python [conda root]",
   "language": "python",
   "name": "conda-root-py"
  },
  "language_info": {
   "codemirror_mode": {
    "name": "ipython",
    "version": 2
   },
   "file_extension": ".py",
   "mimetype": "text/x-python",
   "name": "python",
   "nbconvert_exporter": "python",
   "pygments_lexer": "ipython2",
   "version": "2.7.12"
  }
 },
 "nbformat": 4,
 "nbformat_minor": 1
}
